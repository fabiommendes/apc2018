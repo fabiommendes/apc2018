{
 "cells": [
  {
   "cell_type": "code",
   "execution_count": 55,
   "metadata": {},
   "outputs": [],
   "source": [
    "from time import sleep\n",
    "\n",
    "def falar(nome, texto):\n",
    "    print(nome + ':', texto)\n",
    "    sleep(1)\n",
    "    \n",
    "def joao(texto):\n",
    "    falar('João', texto)\n",
    "    \n",
    "def maria(texto):\n",
    "    falar('Maria', texto)\n",
    "    \n",
    "def menu(opcoes):\n",
    "    i = 1\n",
    "    for opcao in opcoes:\n",
    "        print(\"%d)\" % i, opcao)\n",
    "        i += 1\n",
    "\n",
    "    while True:\n",
    "        resposta = input(\"Escolha uma opção: \")\n",
    "        if not resposta.isdigit():\n",
    "            print('Digite um número válido!')\n",
    "        else:\n",
    "            numero = int(resposta)\n",
    "            n = len(opcoes)\n",
    "            if 1 <= numero <= n:\n",
    "                return numero\n",
    "            print('Digite um número entre 1 e', n)"
   ]
  },
  {
   "cell_type": "code",
   "execution_count": 56,
   "metadata": {
    "scrolled": true
   },
   "outputs": [
    {
     "name": "stdout",
     "output_type": "stream",
     "text": [
      "1) Python\n",
      "2) C\n",
      "3) Javascript\n",
      "4) FORTRAN\n",
      "Escolha uma opção: abc\n",
      "Digite um número válido!\n",
      "Escolha uma opção: 10\n",
      "Digite um número entre 1 e 4\n",
      "Escolha uma opção: 1\n"
     ]
    },
    {
     "data": {
      "text/plain": [
       "1"
      ]
     },
     "execution_count": 56,
     "metadata": {},
     "output_type": "execute_result"
    }
   ],
   "source": [
    "# joao(\"E qual linguagem de programação você mais gosta?\")\n",
    "menu([\"Python\", \"C\", \"Javascript\", \"FORTRAN\"])"
   ]
  },
  {
   "cell_type": "code",
   "execution_count": 57,
   "metadata": {},
   "outputs": [
    {
     "name": "stdout",
     "output_type": "stream",
     "text": [
      "João: Oi tudo bem? Em quem vc vai votar?\n",
      "1) Nele\n",
      "2) Nele não\n",
      "Escolha uma opção: 2\n",
      "João: Isso aí!\n"
     ]
    }
   ],
   "source": [
    "joao(\"Oi tudo bem? Em quem vc vai votar?\")\n",
    "if menu(['Nele', 'Nele não']) == 2:\n",
    "    joao(\"Isso aí!\")"
   ]
  },
  {
   "cell_type": "code",
   "execution_count": 21,
   "metadata": {},
   "outputs": [
    {
     "name": "stdout",
     "output_type": "stream",
     "text": [
      "hello world\n"
     ]
    }
   ],
   "source": [
    "# Controle da terminação do print\n",
    "print('hello', end=' ')\n",
    "print('world')"
   ]
  },
  {
   "cell_type": "code",
   "execution_count": 24,
   "metadata": {},
   "outputs": [
    {
     "name": "stdout",
     "output_type": "stream",
     "text": [
      "hello world! \n"
     ]
    }
   ],
   "source": [
    "# Separa string em palavras\n",
    "for word in \"hello world!\".split():\n",
    "    print(word, end=' ')\n",
    "print()"
   ]
  },
  {
   "cell_type": "code",
   "execution_count": 42,
   "metadata": {},
   "outputs": [],
   "source": [
    "st1 = '1234'\n",
    "st2 = '1dkfd3'"
   ]
  },
  {
   "cell_type": "code",
   "execution_count": 47,
   "metadata": {},
   "outputs": [
    {
     "data": {
      "text/plain": [
       "False"
      ]
     },
     "execution_count": 47,
     "metadata": {},
     "output_type": "execute_result"
    }
   ],
   "source": [
    "''.isdigit()"
   ]
  },
  {
   "cell_type": "code",
   "execution_count": 58,
   "metadata": {},
   "outputs": [],
   "source": [
    "from hyperpython import *"
   ]
  },
  {
   "cell_type": "code",
   "execution_count": 63,
   "metadata": {},
   "outputs": [
    {
     "data": {
      "text/html": [
       "<h1>Hello world</h1>"
      ],
      "text/plain": [
       "h('h1', 'Hello world')"
      ]
     },
     "metadata": {},
     "output_type": "display_data"
    },
    {
     "data": {
      "text/html": [
       "<img src=\"https://www.google.com.br/images/branding/googlelogo/2x/googlelogo_color_272x92dp.png\"></img>"
      ],
      "text/plain": [
       "h('img', {'src': 'https://www.google.com.br/images/branding/googlelogo/2x/googlelogo_color_272x92dp.png'})"
      ]
     },
     "metadata": {},
     "output_type": "display_data"
    }
   ],
   "source": [
    "display(h1(\"Hello world\"))\n",
    "display(img(src=\"https://www.google.com.br/images/branding/googlelogo/2x/googlelogo_color_272x92dp.png\"))"
   ]
  },
  {
   "cell_type": "code",
   "execution_count": 61,
   "metadata": {},
   "outputs": [],
   "source": [
    "!pip3 install hyperpython --user "
   ]
  },
  {
   "cell_type": "code",
   "execution_count": null,
   "metadata": {},
   "outputs": [],
   "source": []
  }
 ],
 "metadata": {
  "kernelspec": {
   "display_name": "Python 3",
   "language": "python",
   "name": "python3"
  },
  "language_info": {
   "codemirror_mode": {
    "name": "ipython",
    "version": 3
   },
   "file_extension": ".py",
   "mimetype": "text/x-python",
   "name": "python",
   "nbconvert_exporter": "python",
   "pygments_lexer": "ipython3",
   "version": "3.7.0"
  }
 },
 "nbformat": 4,
 "nbformat_minor": 2
}
