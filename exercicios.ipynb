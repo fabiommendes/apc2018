{
 "cells": [
  {
   "cell_type": "code",
   "execution_count": 1,
   "metadata": {},
   "outputs": [
    {
     "name": "stdout",
     "output_type": "stream",
     "text": [
      "x: 10\n",
      "dx: 0.5\n",
      "y: 5.2\n",
      "dy: 0.3\n",
      "x + y = 15.2 (0.8)\n",
      "x - y = 4.8 (0.8)\n",
      "x * y = 52.0 (5.6)\n",
      "x / y = 1.923076923076923 + (0.2071005917159763)\n"
     ]
    }
   ],
   "source": [
    "# Exercício 6\n",
    "\n",
    "x = leia_número('x: ')\n",
    "dx = leia_número('dx: ')\n",
    "y = leia_número('y: ')\n",
    "dy = leia_número('dy: ')\n",
    "\n",
    "# Soma\n",
    "soma = x + y\n",
    "dsoma = dx + dy\n",
    "print('x + y = %.2f (%.2f)' % (soma, dsoma))\n",
    "\n",
    "# Subtração\n",
    "sub = x - y\n",
    "dsub = dsoma\n",
    "print('x - y = %.2f (%.2f)' % (sub, dsub))\n",
    "\n",
    "# Multiplicação\n",
    "mul = x * y\n",
    "dmul = abs(y) * dx + abs(x) * dy\n",
    "print('x * y = %.2f (%.2f)' % (mul, dmul))\n",
    "\n",
    "# Divisão\n",
    "div = x / y\n",
    "ddiv = dmul / y**2\n",
    "print('x / y = %.2f + (%.2f)' % (div, ddiv))\n"
   ]
  },
  {
   "cell_type": "code",
   "execution_count": 8,
   "metadata": {},
   "outputs": [
    {
     "data": {
      "text/plain": [
       "1.92"
      ]
     },
     "execution_count": 8,
     "metadata": {},
     "output_type": "execute_result"
    }
   ],
   "source": [
    "round(1.92, 2)"
   ]
  },
  {
   "cell_type": "code",
   "execution_count": 16,
   "metadata": {},
   "outputs": [],
   "source": [
    "from math import ceil, floor"
   ]
  },
  {
   "cell_type": "code",
   "execution_count": 17,
   "metadata": {},
   "outputs": [
    {
     "data": {
      "text/plain": [
       "(1, 2, 2, 1)"
      ]
     },
     "execution_count": 17,
     "metadata": {},
     "output_type": "execute_result"
    }
   ],
   "source": [
    "int(1.8), ceil(1.8), round(1.8), floor(1.8)"
   ]
  },
  {
   "cell_type": "code",
   "execution_count": 18,
   "metadata": {},
   "outputs": [
    {
     "data": {
      "text/plain": [
       "(1, 2, 1, 1)"
      ]
     },
     "execution_count": 18,
     "metadata": {},
     "output_type": "execute_result"
    }
   ],
   "source": [
    "int(1.2), ceil(1.2), round(1.2), floor(1.2)"
   ]
  },
  {
   "cell_type": "code",
   "execution_count": 19,
   "metadata": {},
   "outputs": [
    {
     "data": {
      "text/plain": [
       "(-1, -1, -1, -2)"
      ]
     },
     "execution_count": 19,
     "metadata": {},
     "output_type": "execute_result"
    }
   ],
   "source": [
    "int(-1.2), ceil(-1.2), round(-1.2), floor(-1.2)"
   ]
  },
  {
   "cell_type": "code",
   "execution_count": null,
   "metadata": {},
   "outputs": [],
   "source": []
  },
  {
   "cell_type": "code",
   "execution_count": null,
   "metadata": {},
   "outputs": [],
   "source": []
  }
 ],
 "metadata": {
  "kernelspec": {
   "display_name": "Pytuguês",
   "language": "pytuga",
   "name": "pytuga"
  },
  "language_info": {
   "codemirror_mode": {
    "name": "ipython",
    "version": 3
   },
   "file_extension": "py",
   "mimetype": "text/x-pytuga",
   "name": "Pytuguês",
   "pygments_lexer": "python"
  }
 },
 "nbformat": 4,
 "nbformat_minor": 2
}
