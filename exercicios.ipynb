{
 "cells": [
  {
   "cell_type": "code",
   "execution_count": 1,
   "metadata": {},
   "outputs": [
    {
     "name": "stdout",
     "output_type": "stream",
     "text": [
      "x: 10\n",
      "dx: 0.5\n",
      "y: 5.2\n",
      "dy: 0.3\n",
      "x + y = 15.2 (0.8)\n",
      "x - y = 4.8 (0.8)\n",
      "x * y = 52.0 (5.6)\n",
      "x / y = 1.923076923076923 + (0.2071005917159763)\n"
     ]
    }
   ],
   "source": [
    "# Exercício 6\n",
    "\n",
    "x = leia_número('x: ')\n",
    "dx = leia_número('dx: ')\n",
    "y = leia_número('y: ')\n",
    "dy = leia_número('dy: ')\n",
    "\n",
    "# Soma\n",
    "soma = x + y\n",
    "dsoma = dx + dy\n",
    "print('x + y = %.2f (%.2f)' % (soma, dsoma))\n",
    "\n",
    "# Subtração\n",
    "sub = x - y\n",
    "dsub = dsoma\n",
    "print('x - y = %.2f (%.2f)' % (sub, dsub))\n",
    "\n",
    "# Multiplicação\n",
    "mul = x * y\n",
    "dmul = abs(y) * dx + abs(x) * dy\n",
    "print('x * y = %.2f (%.2f)' % (mul, dmul))\n",
    "\n",
    "# Divisão\n",
    "div = x / y\n",
    "ddiv = dmul / y**2\n",
    "print('x / y = %.2f + (%.2f)' % (div, ddiv))\n"
   ]
  },
  {
   "cell_type": "code",
   "execution_count": 8,
   "metadata": {},
   "outputs": [
    {
     "data": {
      "text/plain": [
       "1.92"
      ]
     },
     "execution_count": 8,
     "metadata": {},
     "output_type": "execute_result"
    }
   ],
   "source": [
    "# Exercício 5.8 - Escreva um programa que multiplique dois números\n",
    "# a e b utilizando apenas somas e repetições.\n",
    "a = 42\n",
    "b = 10\n",
    "\n",
    "... # calcule a multiplicação"
   ]
  },
  {
   "cell_type": "code",
   "execution_count": null,
   "metadata": {},
   "outputs": [],
   "source": [
    "# Exercício 5.6 - altere o código abaixo para mostrar os números no\n",
    "# formato e uma tabuada: ex, a tabuada de 7 ficaria 7x1 = 7, 7x2 = 14, ...\n",
    "n = leia_número('Tabuada de: ')\n",
    "x = 1\n",
    "enquanto x <= 10:\n",
    "    print(n + x)\n",
    "    x = x + 1"
   ]
  },
  {
   "cell_type": "code",
   "execution_count": null,
   "metadata": {},
   "outputs": [],
   "source": [
    "# Exercício 5.11 - Programa para calcular o rendimento financeiro\n",
    "# de uma aplicação:\n",
    "\n",
    "valor = leia_número('Depósito inicial (em R$):')\n",
    "juros = leia_número('Rendimento mensal (em %):')\n",
    "\n",
    "# o programa deve mostrar o valor do investimento nos 24 primeiros\n",
    "# meses\n",
    "valor = valor * (1 + juros / 100)"
   ]
  },
  {
   "cell_type": "code",
   "execution_count": null,
   "metadata": {},
   "outputs": [],
   "source": [
    "# Exercício 5.11b - Modifique o programa anterior para mostrar o\n",
    "# rendimento em 10 anos, mostrando apenas o valor no final de cada\n",
    "# ano."
   ]
  }
 ],
 "metadata": {
  "kernelspec": {
   "display_name": "Pytuguês",
   "language": "pytuga",
   "name": "pytuga"
  },
  "language_info": {
   "codemirror_mode": {
    "name": "ipython",
    "version": 3
   },
   "file_extension": "py",
   "mimetype": "text/x-pytuga",
   "name": "Pytuguês",
   "pygments_lexer": "python"
  }
 },
 "nbformat": 4,
 "nbformat_minor": 2
}
