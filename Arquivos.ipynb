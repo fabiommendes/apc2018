{
 "cells": [
  {
   "cell_type": "code",
   "execution_count": 92,
   "metadata": {},
   "outputs": [],
   "source": [
    "# Escreve em um arquivo\n",
    "# (use 'a' no lugar de 'w' para não apagar o conteúdo)\n",
    "with open('file.txt', 'w') as file:\n",
    "    file.write('hello file!\\n')\n",
    "    file.write('segunda linha!\\n')"
   ]
  },
  {
   "cell_type": "code",
   "execution_count": 93,
   "metadata": {},
   "outputs": [
    {
     "name": "stdout",
     "output_type": "stream",
     "text": [
      "hello file!\n",
      "\n",
      "segunda linha!\n",
      "\n"
     ]
    }
   ],
   "source": [
    "# Lê um arquivo de texto salvo em \"file.txt\"\n",
    "with open('file.txt') as file:\n",
    "    for line in file:\n",
    "        print(line)"
   ]
  },
  {
   "cell_type": "code",
   "execution_count": 94,
   "metadata": {},
   "outputs": [],
   "source": [
    "# Lê dados sobre deputados\n",
    "import os\n",
    "caminho = os.path.join('dados', 'deps_cor_raca.csv')  \n",
    "\n",
    "with open(caminho) as file:\n",
    "    lines = list(file)"
   ]
  },
  {
   "cell_type": "code",
   "execution_count": 95,
   "metadata": {},
   "outputs": [],
   "source": [
    "# Remove primeira linha que contem o nome de cada coluna\n",
    "del lines[0]"
   ]
  },
  {
   "cell_type": "code",
   "execution_count": 96,
   "metadata": {},
   "outputs": [],
   "source": [
    "# Processa dados brutos\n",
    "data = []\n",
    "\n",
    "for line in lines:\n",
    "    row = line.split(';')\n",
    "    del row[0]\n",
    "    del row[-1]\n",
    "    row = [x.strip('\"') for x in row]\n",
    "    row[-1] = int(row[-1])\n",
    "    data.append(row)"
   ]
  },
  {
   "cell_type": "code",
   "execution_count": 97,
   "metadata": {},
   "outputs": [
    {
     "data": {
      "text/plain": [
       "{'Amarela', 'Branca', 'Indígena', 'Parda', 'Preta'}"
      ]
     },
     "execution_count": 97,
     "metadata": {},
     "output_type": "execute_result"
    }
   ],
   "source": [
    "# Descobrimos quais cores/raças existem\n",
    "{cor for (cor, prof, n) in data}"
   ]
  },
  {
   "cell_type": "code",
   "execution_count": 98,
   "metadata": {},
   "outputs": [],
   "source": [
    "# Calculamos os totais de cada cor\n",
    "nA = sum([n for (cor, prof, n) in data if cor == 'Amarela'])\n",
    "nB = sum([n for (cor, prof, n) in data if cor == 'Branca'])\n",
    "nI = sum([n for (cor, prof, n) in data if cor == 'Indígena'])\n",
    "nPa = sum([n for (cor, prof, n) in data if cor == 'Parda'])\n",
    "nPr = sum([n for (cor, prof, n) in data if cor == 'Preta'])"
   ]
  },
  {
   "cell_type": "code",
   "execution_count": 100,
   "metadata": {},
   "outputs": [
    {
     "data": {
      "text/plain": [
       "(0.5258009293225727, 0.4636481151521504)"
      ]
     },
     "execution_count": 100,
     "metadata": {},
     "output_type": "execute_result"
    }
   ],
   "source": [
    "# E as frações para ex. brancos e negros\n",
    "ntot = nA + nB + nI + nPa + nPr\n",
    "nB / ntot, (nPr + nPa) / ntot"
   ]
  },
  {
   "cell_type": "code",
   "execution_count": null,
   "metadata": {},
   "outputs": [],
   "source": []
  }
 ],
 "metadata": {
  "kernelspec": {
   "display_name": "Python 3",
   "language": "python",
   "name": "python3"
  },
  "language_info": {
   "codemirror_mode": {
    "name": "ipython",
    "version": 3
   },
   "file_extension": ".py",
   "mimetype": "text/x-python",
   "name": "python",
   "nbconvert_exporter": "python",
   "pygments_lexer": "ipython3",
   "version": "3.7.0"
  }
 },
 "nbformat": 4,
 "nbformat_minor": 2
}
