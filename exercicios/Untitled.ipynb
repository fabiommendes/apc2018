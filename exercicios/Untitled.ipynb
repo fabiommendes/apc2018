{
 "cells": [
  {
   "cell_type": "code",
   "execution_count": 6,
   "metadata": {},
   "outputs": [
    {
     "name": "stdout",
     "output_type": "stream",
     "text": [
      "Done. Time to Check.\n"
     ]
    }
   ],
   "source": [
    "def say_hi(name: str, age: int) -> str:\n",
    "    return \"Hi. My name is \" + name + \" and I'm \" + str(age) + \" years old\"\n",
    "\n",
    "if __name__ == '__main__':\n",
    "    #These \"asserts\" using only for self-checking and not necessary for auto-testing\n",
    "    assert say_hi(\"Alex\", 32) == \"Hi. My name is Alex and I'm 32 years old\", \"First\"\n",
    "    assert say_hi(\"Frank\", 68) == \"Hi. My name is Frank and I'm 68 years old\", \"Second\"\n",
    "    print('Done. Time to Check.')"
   ]
  },
  {
   "cell_type": "code",
   "execution_count": null,
   "metadata": {},
   "outputs": [],
   "source": []
  }
 ],
 "metadata": {
  "kernelspec": {
   "display_name": "Python 3",
   "language": "python",
   "name": "python3"
  },
  "language_info": {
   "codemirror_mode": {
    "name": "ipython",
    "version": 3
   },
   "file_extension": ".py",
   "mimetype": "text/x-python",
   "name": "python",
   "nbconvert_exporter": "python",
   "pygments_lexer": "ipython3",
   "version": "3.7.0"
  }
 },
 "nbformat": 4,
 "nbformat_minor": 2
}
