{
 "cells": [
  {
   "cell_type": "markdown",
   "metadata": {},
   "source": [
    "# Prova 2\n",
    "\n",
    "### Instruções\n",
    "\n",
    "* Leia atentamente cada questão\n",
    "* Preecha o nome e matrícula na célula abaixo\n",
    "* Você deve escolher 4 questões para resolver (cada uma vale 2.5 pts)\n",
    "* A prova é individual\n",
    "* Você pode consultar a documentação do Python em Python.org"
   ]
  },
  {
   "cell_type": "markdown",
   "metadata": {},
   "source": [
    "### Informações\n",
    "\n",
    "* Nome: (seu nome aqui)\n",
    "* Matrícula: (sua matrícula)"
   ]
  },
  {
   "cell_type": "markdown",
   "metadata": {},
   "source": [
    "## Questão 1 - Intervalos\n",
    "\n",
    "Você deve criar uma função que recebe um conjunto de inteiros e retorne uma lista ordenada de intervalos representados como tuplas. Por exemplo: `{1, 2, 3}` viraria uma lista com um único elemento `(1, 3)`. Caso\n",
    "o conjunto de números não seja sequêncial, utilizamos várias tuplas: `{1, 2, 3, 6, 7, 8} => [(1, 3), (6, 8)]`.\n",
    "Por fim, números isolados ganham sua tupla com valores identicos: `{42} => [(42, 42)]`."
   ]
  },
  {
   "cell_type": "code",
   "execution_count": 122,
   "metadata": {},
   "outputs": [],
   "source": [
    "# id: q1\n",
    "def intervalos(data):\n",
    "    numeros = sorted(data)\n",
    "    inicio = ultimo = numeros[0]\n",
    "    resto = numeros[1:]\n",
    "    intervalos = []\n",
    "    \n",
    "    for n in resto:\n",
    "        if n == ultimo + 1:\n",
    "            ultimo = n\n",
    "        else:\n",
    "            intervalo = (inicio, ultimo)\n",
    "            intervalos.append(intervalo)\n",
    "            inicio = ultimo = n\n",
    "    \n",
    "    intervalo = (inicio, ultimo)\n",
    "    intervalos.append(intervalo)\n",
    "    return intervalos"
   ]
  },
  {
   "cell_type": "code",
   "execution_count": 123,
   "metadata": {},
   "outputs": [
    {
     "data": {
      "text/plain": [
       "[(1, 5), (7, 8), (12, 13)]"
      ]
     },
     "execution_count": 123,
     "metadata": {},
     "output_type": "execute_result"
    }
   ],
   "source": [
    "# Exemplo para você experimentar sua implementação :)\n",
    "intervalos({1, 2, 3, 4, 5, 7, 8, 12, 13})"
   ]
  },
  {
   "cell_type": "code",
   "execution_count": 121,
   "metadata": {},
   "outputs": [
    {
     "name": "stdout",
     "output_type": "stream",
     "text": [
      "Parabéns!\n"
     ]
    }
   ],
   "source": [
    "# testes\n",
    "assert intervalos({1, 2, 3, 4, 5, 7, 8, 12}) == [(1, 5), (7, 8), (12, 12)]\n",
    "assert intervalos({1, 2, 3, 6, 7, 8, 4, 5}) == [(1, 8)]\n",
    "print('Parabéns!')"
   ]
  },
  {
   "cell_type": "markdown",
   "metadata": {},
   "source": [
    "## Questão 2 - Número da besta\n",
    "\n",
    "A Gematria é método de análise de textos Bíblicos baseado na associação de números a cada palavra do texto. Ainda que a Gematria original aceite apenas textos em Hebraico, vamos implementar nossa versão adaptada com o alfabeto latino.\n",
    "\n",
    "Crie uma função chamada gematria que associa cada string de texto de entrada com um valor numérico segundo a seguinte tablela de valores:\n",
    "\n",
    "```python\n",
    "valores = {\n",
    "    'a': 1, 'b': 2, 'c': 3, 'd': 4, 'e': 5, \n",
    "    'f': 6, 'g': 7, 'h': 8, 'i': 9, 'j': 10, \n",
    "    'k': 20, 'l': 30, 'm': 40, 'n': 50, 'o': 60, \n",
    "    'p': 70, 'q': 80, 'r': 90, 's': 100, 't': 200, \n",
    "    'u': 300, 'v': 400, 'w': 500, 'x': 600, \n",
    "    'y': 700, 'z': 800,\n",
    "}\n",
    "```"
   ]
  },
  {
   "cell_type": "code",
   "execution_count": 33,
   "metadata": {},
   "outputs": [],
   "source": [
    "# id: q2\n",
    "\n",
    "valores = {\n",
    "    'a': 1, 'b': 2, 'c': 3, 'd': 4, 'e': 5, \n",
    "    'f': 6, 'g': 7, 'h': 8, 'i': 9, 'j': 10, \n",
    "    'k': 20, 'l': 30, 'm': 40, 'n': 50, 'o': 60, \n",
    "    'p': 70, 'q': 80, 'r': 90, 's': 100, 't': 200, \n",
    "    'u': 300, 'v': 400, 'w': 500, 'x': 600, \n",
    "    'y': 700, 'z': 800,\n",
    "}\n",
    "\n",
    "def gematria(data: str) -> int:\n",
    "    # return sum(valores.get(letra, 0) for letra in data.lower())\n",
    "    soma = 0\n",
    "    data = data.lower()\n",
    "    for letra in data:\n",
    "        if letra in valores:\n",
    "            soma += valores[letra]\n",
    "    return soma"
   ]
  },
  {
   "cell_type": "code",
   "execution_count": 34,
   "metadata": {},
   "outputs": [
    {
     "data": {
      "text/plain": [
       "666"
      ]
     },
     "execution_count": 34,
     "metadata": {},
     "output_type": "execute_result"
    }
   ],
   "source": [
    "# Exemplo para você experimentar sua implementação :)\n",
    "gematria('paracatu')"
   ]
  },
  {
   "cell_type": "code",
   "execution_count": 35,
   "metadata": {},
   "outputs": [
    {
     "name": "stdout",
     "output_type": "stream",
     "text": [
      "Parabéns!\n"
     ]
    }
   ],
   "source": [
    "# testes\n",
    "assert gematria('paracatu') == 666\n",
    "assert gematria('PARACATU') == 666\n",
    "assert gematria('hello world!') == 817\n",
    "assert gematria('abcdefghijklmnopqrstuvwxyz') == 4095\n",
    "print('Parabéns!')"
   ]
  },
  {
   "cell_type": "markdown",
   "metadata": {},
   "source": [
    "## Questão 3 - Todos iguais\n",
    "\n",
    "Crie uma função que verifique se todos os elementos de uma lista são iguais. \n",
    "\n",
    "Uma lista vazia deve retornar `True`."
   ]
  },
  {
   "cell_type": "code",
   "execution_count": 15,
   "metadata": {},
   "outputs": [],
   "source": [
    "# id: q3\n",
    "def todos_iguais(lst: list) -> bool:\n",
    "    # return len(set(lst)) <= 1\n",
    "    if lst == []:\n",
    "        return True\n",
    "    primeiro = lst[0]\n",
    "    for x in lst: \n",
    "        if x != primeiro:\n",
    "            return False\n",
    "    return True"
   ]
  },
  {
   "cell_type": "code",
   "execution_count": 16,
   "metadata": {},
   "outputs": [
    {
     "data": {
      "text/plain": [
       "True"
      ]
     },
     "execution_count": 16,
     "metadata": {},
     "output_type": "execute_result"
    }
   ],
   "source": [
    "# Exemplo para você experimentar sua implementação :)\n",
    "todos_iguais([1, 1, 1])"
   ]
  },
  {
   "cell_type": "code",
   "execution_count": 17,
   "metadata": {},
   "outputs": [
    {
     "name": "stdout",
     "output_type": "stream",
     "text": [
      "Parabéns!\n"
     ]
    }
   ],
   "source": [
    "# testes\n",
    "assert todos_iguais([1, 1, 1]) == True\n",
    "assert todos_iguais([1, 2, 1]) == False\n",
    "assert todos_iguais(['a', 'a', 'a']) == True\n",
    "assert todos_iguais([]) == True\n",
    "assert todos_iguais([1]) == True\n",
    "print('Parabéns!')"
   ]
  },
  {
   "cell_type": "markdown",
   "metadata": {},
   "source": [
    "## Questão 4 - Primos\n",
    "\n",
    "Um número é primo se for divisível apenas por 1 e por ele mesmo (obs, zero e um **não** são primos!). Crie uma\n",
    "função que recebe um número e retorne uma lista com todos números menores ou iguais ao número dado.\n",
    "\n",
    "Lembre-se que para verificar se um número `n` é primo, basta analisar se o mesmo é divisível por algum número na lista dos primos menores que `n`."
   ]
  },
  {
   "cell_type": "code",
   "execution_count": 102,
   "metadata": {},
   "outputs": [],
   "source": [
    "# id: q4\n",
    "def primos(n: int):\n",
    "    primos = []\n",
    "    \n",
    "    for m in range(2, n + 1):\n",
    "        # e_primo = True\n",
    "        # for p in primos:\n",
    "        #    if m % p == 0:\n",
    "        #        e_primo = False\n",
    "        #        break\n",
    "        \n",
    "        if all(m % p != 0 for p in primos):\n",
    "            primos.append(m)\n",
    "\n",
    "    return primos"
   ]
  },
  {
   "cell_type": "code",
   "execution_count": 103,
   "metadata": {},
   "outputs": [
    {
     "data": {
      "text/plain": [
       "[2, 3, 5, 7, 11, 13]"
      ]
     },
     "execution_count": 103,
     "metadata": {},
     "output_type": "execute_result"
    }
   ],
   "source": [
    "# Exemplo para você experimentar sua implementação :)\n",
    "primos(13)"
   ]
  },
  {
   "cell_type": "code",
   "execution_count": 104,
   "metadata": {},
   "outputs": [
    {
     "name": "stdout",
     "output_type": "stream",
     "text": [
      "Parabéns!\n"
     ]
    }
   ],
   "source": [
    "# testes\n",
    "assert primos(13) == [2, 3, 5, 7, 11, 13]\n",
    "assert primos(10) == [2, 3, 5, 7]\n",
    "print('Parabéns!')"
   ]
  },
  {
   "cell_type": "code",
   "execution_count": 110,
   "metadata": {},
   "outputs": [
    {
     "data": {
      "text/plain": [
       "[2, 4, 6, 8, 10, 12]"
      ]
     },
     "execution_count": 110,
     "metadata": {},
     "output_type": "execute_result"
    }
   ],
   "source": []
  },
  {
   "cell_type": "markdown",
   "metadata": {},
   "source": [
    "## Questão 5 - Uma questão de classe\n",
    "\n",
    "A classe `Pessoa` mostrada abaixo possui os campos de nome e sobrenome. \n",
    "\n",
    "Implemente a função `criar_filho(p1, p2, nome)` que produz uma nova pessoa com o sobrenome calculado a partir dos sobrenomes dos pais. No caso, devemos juntar o último sobrenome do genitor2 com o último sobrenome do genitor1."
   ]
  },
  {
   "cell_type": "code",
   "execution_count": 65,
   "metadata": {},
   "outputs": [],
   "source": [
    "# id: q5\n",
    "class Pessoa:\n",
    "    def __init__(self, nome, sobrenome):\n",
    "        self.nome = nome\n",
    "        self.sobrenome = sobrenome\n",
    "        \n",
    "    def __repr__(self):\n",
    "        return \"Pessoa(%r, %r)\" % (self.nome, self.sobrenome)\n",
    "    \n",
    "    def __eq__(self, other):\n",
    "        return (self.nome == other.nome \n",
    "                and self.sobrenome == other.sobrenome)\n",
    "\n",
    "    def __add__(self, other):\n",
    "        nome = self.nome[:2] + other.nome[2:]\n",
    "        return criar_filho(self, other, nome)\n",
    "    \n",
    "    def ultimo_sobrenome(self):\n",
    "        \"\"\"\n",
    "        Retorna a última palavra do sobrenome da pessoa.\n",
    "        \n",
    "        Útil para analizar sobrenomes compostos.\n",
    "        \"\"\"\n",
    "        partes = self.sobrenome.split()\n",
    "        return partes[-1]\n",
    "    \n",
    "def criar_filho(p1: Pessoa, p2: Pessoa, nome: str) -> Pessoa:\n",
    "    sobrenome1 = p1.ultimo_sobrenome()\n",
    "    sobrenome2 = p2.ultimo_sobrenome()\n",
    "    sobrenome_filho = sobrenome2 + ' ' + sobrenome1\n",
    "    return Pessoa(nome, sobrenome_filho)"
   ]
  },
  {
   "cell_type": "code",
   "execution_count": 66,
   "metadata": {},
   "outputs": [
    {
     "data": {
      "text/plain": [
       "Pessoa('Sasha', 'Szafir Meneghel')"
      ]
     },
     "execution_count": 66,
     "metadata": {},
     "output_type": "execute_result"
    }
   ],
   "source": [
    "# Exemplo para você experimentar sua implementação :)\n",
    "xuxa = Pessoa(\"Xuxa\", \"Meneghel\")\n",
    "pai = Pessoa(\"Luciano\", \"Fulano Szafir\")\n",
    "criar_filho(xuxa, pai, \"Sasha\")"
   ]
  },
  {
   "cell_type": "code",
   "execution_count": 73,
   "metadata": {
    "scrolled": true
   },
   "outputs": [
    {
     "data": {
      "text/plain": [
       "Pessoa('Edciano', 'Szafir Nascimento')"
      ]
     },
     "execution_count": 73,
     "metadata": {},
     "output_type": "execute_result"
    }
   ],
   "source": [
    "pele + pai"
   ]
  },
  {
   "cell_type": "code",
   "execution_count": 71,
   "metadata": {},
   "outputs": [],
   "source": []
  },
  {
   "cell_type": "code",
   "execution_count": null,
   "metadata": {},
   "outputs": [],
   "source": []
  }
 ],
 "metadata": {
  "kernelspec": {
   "display_name": "Python 3",
   "language": "python",
   "name": "python3"
  },
  "language_info": {
   "codemirror_mode": {
    "name": "ipython",
    "version": 3
   },
   "file_extension": ".py",
   "mimetype": "text/x-python",
   "name": "python",
   "nbconvert_exporter": "python",
   "pygments_lexer": "ipython3",
   "version": "3.5.2"
  }
 },
 "nbformat": 4,
 "nbformat_minor": 2
}
