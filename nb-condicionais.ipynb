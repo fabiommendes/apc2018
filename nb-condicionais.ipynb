{
 "cells": [
  {
   "cell_type": "markdown",
   "metadata": {},
   "source": [
    "# Fatorial\n",
    "\n",
    "O fatorial de um número n corresponde à multiplicação de todos\n",
    "os valores de 1 até n: n! = 1 * 2 * 3 * ... * n"
   ]
  },
  {
   "cell_type": "code",
   "execution_count": null,
   "metadata": {},
   "outputs": [],
   "source": [
    "n = leia_número(10)"
   ]
  },
  {
   "cell_type": "code",
   "execution_count": null,
   "metadata": {},
   "outputs": [],
   "source": [
    "fat = 1\n",
    "para x de 1 até n:\n",
    "    fat = fat * x\n",
    "print('fatorial de %s é %s' % (n, fat))"
   ]
  },
  {
   "cell_type": "markdown",
   "metadata": {},
   "source": [
    "# Condicionais"
   ]
  },
  {
   "cell_type": "code",
   "execution_count": null,
   "metadata": {},
   "outputs": [],
   "source": [
    "idade = leia_número('Qual a sua idade?')"
   ]
  },
  {
   "cell_type": "code",
   "execution_count": null,
   "metadata": {},
   "outputs": [],
   "source": [
    "se idade >= 60:\n",
    "    print('Voto facultativo')\n",
    "ou então se idade >= 18:\n",
    "    print('Você é obrigado a votar. Escolha um candidado :(')\n",
    "ou então se idade >= 16:\n",
    "    print('Você já pode votar!')\n",
    "senão:\n",
    "    print('Você não pode votar.')\n",
    "    print('Isso é uma sorte dados os candidatos ;)')"
   ]
  },
  {
   "cell_type": "code",
   "execution_count": null,
   "metadata": {},
   "outputs": [],
   "source": [
    "# Equivalente ao anterior, mas na versão pouco legível\n",
    "\n",
    "se idade >= 60:\n",
    "    print('Voto facultativo')\n",
    "senão:\n",
    "    se idade >= 18:\n",
    "        print('Você é obrigado a votar. Escolha um candidado :(')\n",
    "    senão:\n",
    "        se idade >= 16:\n",
    "            print('Você já pode votar!')\n",
    "        senão:\n",
    "            print('Você não pode votar.')\n",
    "            print('Isso é uma sorte dados os candidatos ;)')"
   ]
  },
  {
   "cell_type": "code",
   "execution_count": null,
   "metadata": {},
   "outputs": [],
   "source": [
    "# CUIDADO!!! Bloco condicional implementado errado!\n",
    "# Esquecemos das condições \"ou então se\" e o Pytuguês\n",
    "# pode executar várias alternativas\n",
    "\n",
    "se idade >= 60:\n",
    "    print('Voto facultativo')\n",
    "se idade >= 18:\n",
    "    print('Você é obrigado a votar. Escolha um candidado :(')\n",
    "se idade >= 16:\n",
    "    print('Você já pode votar!')\n",
    "senão:\n",
    "    print('Você não pode votar.')\n",
    "    print('Isso é uma sorte dados os candidatos ;)')"
   ]
  },
  {
   "cell_type": "markdown",
   "metadata": {},
   "source": [
    "# Par ou ímpar!"
   ]
  },
  {
   "cell_type": "code",
   "execution_count": null,
   "metadata": {},
   "outputs": [],
   "source": [
    "u1 = leia_texto('usuário 1, par ou impar?')\n",
    "n1 = leia_número('número:')\n",
    "n2 = leia_número('usuário 2, e você?')"
   ]
  },
  {
   "cell_type": "code",
   "execution_count": null,
   "metadata": {},
   "outputs": [],
   "source": [
    "se ...:\n",
    "    print('usuário 1 ganhou!')\n",
    "senão:\n",
    "    print('usuário 2 ganhou!')"
   ]
  },
  {
   "cell_type": "markdown",
   "metadata": {},
   "source": [
    "# Pedra papel e tesoura"
   ]
  },
  {
   "cell_type": "code",
   "execution_count": null,
   "metadata": {},
   "outputs": [],
   "source": [
    "u1 = leia_texto('usuário 1, pedra, papel ou tesoura?')\n",
    "u2 = leia_texto('usuário 2, pedra, papel ou tesoura?')"
   ]
  },
  {
   "cell_type": "code",
   "execution_count": null,
   "metadata": {},
   "outputs": [],
   "source": [
    "se ...:\n",
    "    print('empate!')\n",
    "ou então se ...:\n",
    "    print('usuário 1 ganhou!')\n",
    "senão:\n",
    "    print('usuário 2 ganhou!')"
   ]
  }
 ],
 "metadata": {
  "kernelspec": {
   "display_name": "Pytuguês",
   "language": "pytuga",
   "name": "pytuga"
  },
  "language_info": {
   "codemirror_mode": {
    "name": "ipython",
    "version": 3
   },
   "file_extension": "py",
   "mimetype": "text/x-pytuga",
   "name": "Pytuguês",
   "pygments_lexer": "python"
  }
 },
 "nbformat": 4,
 "nbformat_minor": 2
}
