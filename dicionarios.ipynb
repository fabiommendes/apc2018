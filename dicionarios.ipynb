{
 "cells": [
  {
   "cell_type": "code",
   "execution_count": 10,
   "metadata": {},
   "outputs": [
    {
     "name": "stdout",
     "output_type": "stream",
     "text": [
      "8.034\n"
     ]
    }
   ],
   "source": [
    "# Listas são a estrutura de dados natural quando temos \n",
    "# sequências de valores...\n",
    "\n",
    "lst = [8.01, 8.02, 8.15, 7.99, 8.00]\n",
    "média = sum(lst) / len(lst)\n",
    "print(média)"
   ]
  },
  {
   "cell_type": "code",
   "execution_count": 11,
   "metadata": {},
   "outputs": [],
   "source": [
    "# Podemos armazenar  várias propriedades de um objeto\n",
    "heroi = [\"Super Mario\", 3, Verdadeiro, Falso]  # T_T"
   ]
  },
  {
   "cell_type": "code",
   "execution_count": 23,
   "metadata": {},
   "outputs": [
    {
     "data": {
      "text/plain": [
       "{'nome': 'Super Mário',\n",
       " 'vidas': 3,\n",
       " 'mushroom_king': Verdadeiro,\n",
       " 'pulando': Falso}"
      ]
     },
     "execution_count": 23,
     "metadata": {},
     "output_type": "execute_result"
    }
   ],
   "source": [
    "# Mesmo objeto anterior, agora associando as propriedades\n",
    "# a nomes.\n",
    "# Dicionários :-)\n",
    "heroi = {\n",
    "    \"nome\": \"Super Mário\", \n",
    "    \"vidas\": 3,\n",
    "    \"mushroom_king\": Verdadeiro,\n",
    "    \"pulando\": Falso,\n",
    "}\n",
    "heroi"
   ]
  },
  {
   "cell_type": "code",
   "execution_count": 24,
   "metadata": {},
   "outputs": [
    {
     "data": {
      "text/plain": [
       "{1: 1, 2: 4, 3: 9, 4: 16}"
      ]
     },
     "execution_count": 24,
     "metadata": {},
     "output_type": "execute_result"
    }
   ],
   "source": [
    "# Dicionário pode conter números\n",
    "quadrados = {1: 1, 2: 4, 3: 9, 4: 16}\n",
    "quadrados"
   ]
  },
  {
   "cell_type": "code",
   "execution_count": 25,
   "metadata": {},
   "outputs": [
    {
     "data": {
      "text/plain": [
       "'Super Mário'"
      ]
     },
     "execution_count": 25,
     "metadata": {},
     "output_type": "execute_result"
    }
   ],
   "source": [
    "# Podemos acessar os valores do dicionário a chamando a\n",
    "# entrada correspondente entre colchetes\n",
    "\n",
    "heroi[\"nome\"]\n",
    "#     ^^^^^^\n",
    "#       = chave do dicionário"
   ]
  },
  {
   "cell_type": "code",
   "execution_count": 26,
   "metadata": {},
   "outputs": [
    {
     "data": {
      "text/plain": [
       "{'nome': 'Super Mário',\n",
       " 'vidas': 2,\n",
       " 'mushroom_king': Verdadeiro,\n",
       " 'pulando': Falso}"
      ]
     },
     "execution_count": 26,
     "metadata": {},
     "output_type": "execute_result"
    }
   ],
   "source": [
    "# Podemos modificar entradas do dicionário com a seguinte\n",
    "# notação\n",
    "heroi[\"vidas\"] = 2\n",
    "heroi"
   ]
  },
  {
   "cell_type": "code",
   "execution_count": 27,
   "metadata": {},
   "outputs": [
    {
     "data": {
      "text/plain": [
       "{'nome': 'Super Mário',\n",
       " 'vidas': 2,\n",
       " 'mushroom_king': Verdadeiro,\n",
       " 'pulando': Falso,\n",
       " 'melhor_amigo': 'Luigi'}"
      ]
     },
     "execution_count": 27,
     "metadata": {},
     "output_type": "execute_result"
    }
   ],
   "source": [
    "# Para adicionar uma nova entrada, basta atribuir um \n",
    "# valor à chave correspondende\n",
    "heroi[\"melhor_amigo\"] = \"Luigi\"\n",
    "heroi"
   ]
  },
  {
   "cell_type": "code",
   "execution_count": 28,
   "metadata": {},
   "outputs": [
    {
     "data": {
      "text/plain": [
       "{'nome': 'Super Mário', 'vidas': 2, 'pulando': Falso, 'melhor_amigo': 'Luigi'}"
      ]
     },
     "execution_count": 28,
     "metadata": {},
     "output_type": "execute_result"
    }
   ],
   "source": [
    "# Também podemos apagar entradas\n",
    "apagar heroi[\"mushroom_king\"]\n",
    "heroi"
   ]
  },
  {
   "cell_type": "code",
   "execution_count": 32,
   "metadata": {},
   "outputs": [
    {
     "data": {
      "text/plain": [
       "Falso"
      ]
     },
     "execution_count": 32,
     "metadata": {},
     "output_type": "execute_result"
    }
   ],
   "source": [
    "# Ou podemos apagar entradas de forma segura:\n",
    "# Caso a chave não exista no dicionário, retorna \n",
    "# o segundo valor\n",
    "heroi.pop(\"mushroom_king\", Falso)"
   ]
  },
  {
   "cell_type": "code",
   "execution_count": 36,
   "metadata": {},
   "outputs": [
    {
     "data": {
      "text/plain": [
       "dict_keys(['nome', 'vidas', 'pulando', 'melhor_amigo'])"
      ]
     },
     "execution_count": 36,
     "metadata": {},
     "output_type": "execute_result"
    }
   ],
   "source": [
    "# Lista as chaves de um dicionário\n",
    "heroi.keys()"
   ]
  },
  {
   "cell_type": "code",
   "execution_count": 42,
   "metadata": {},
   "outputs": [
    {
     "name": "stdout",
     "output_type": "stream",
     "text": [
      "Inimigo do meu herói: Bowser\n"
     ]
    }
   ],
   "source": [
    "# Descobrir se uma entrada foi definida no dicionário\n",
    "# ou não\n",
    "se \"inimigo\" em heroi:\n",
    "    print(\"Inimigo do meu herói:\", heroi[\"inimigo\"])\n",
    "senão:\n",
    "    print(\"Todo mundo gosta do\", heroi[\"nome\"])"
   ]
  },
  {
   "cell_type": "code",
   "execution_count": 75,
   "metadata": {},
   "outputs": [],
   "source": [
    "# Problema \n",
    "texto = \"\"\"\n",
    "Esse papo já tá qualquer coisa\n",
    "Você já tá pra lá de Marrakesh\n",
    "Mexe qualquer coisa dentro, doida\n",
    "Já qualquer coisa, doida, dentro mexe\n",
    "Não se avexe não, baião de dois\n",
    "Deixe de manha, 'xe de manha, pois\n",
    "Sem essa aranha, sem essa aranha, sem essa aranha!\n",
    "Nem a sanha arranha o carro\n",
    "Nem o sarro arranha a Espanha\n",
    "Meça: tamanha!\n",
    "Meça: tamanha!\n",
    "Esse papo seu já tá de manhã!\n",
    "\n",
    "Berro pelo aterro\n",
    "Pelo desterro\n",
    "Berro por seu berro\n",
    "Pelo seu erro\n",
    "Quero que você ganhe\n",
    "Que você me apanhe\n",
    "Sou o seu bezerro gritando mamãe!\n",
    "Esse papo meu tá qualquer coisa\n",
    "E você tá pra lá de Teerã!\n",
    "\n",
    "Qualquer coisa\n",
    "Você já tá pra lá de Marrakesh\n",
    "Mexe qualquer coisa dentro, doida\n",
    "Já qualquer coisa, doida, dentro mexe\n",
    "Não se avexe não, baião de dois\n",
    "Deixe de manha, 'xe de manha, pois\n",
    "Sem essa aranha, sem essa aranha, sem essa aranha!\n",
    "Nem a sanha arranha o carro\n",
    "Nem o sarro arranha a Espanha\n",
    "Meça: tamanha!\n",
    "Meça: tamanha!\n",
    "Esse papo seu já tá de manhã!\n",
    "\n",
    "Berro pelo aterro\n",
    "Pelo desterro\n",
    "Berro por seu berro\n",
    "Pelo seu erro\n",
    "Quero que você ganhe\n",
    "Que você me apanhe\n",
    "Sou o seu bezerro gritando mamãe\n",
    "Esse papo meu tá qualquer coisa\n",
    "E você tá pra lá de Teerã!\n",
    "\n",
    "Qualquer coisa\n",
    "Você já tá pra lá de Marrakesh\n",
    "Mexe qualquer coisa dentro, doida\n",
    "Já qualquer coisa, doida, dentro mexe\n",
    "Não se avexe não, baião de dois\n",
    "Deixe de manha, 'xe de manha, pois\n",
    "Sem essa aranha, sem essa aranha, sem essa aranha!\n",
    "Nem a sanha arranha o carro\n",
    "Nem o sarro arranha a Espanha\n",
    "Meça: tamanha!\n",
    "Meça: tamanha!\n",
    "Esse papo seu já tá de manhã!\n",
    "\n",
    "Berro pelo aterro\n",
    "Pelo desterro\n",
    "Berro por seu berro\n",
    "Pelo seu erro\n",
    "Quero que você ganhe\n",
    "Que você me apanhe\n",
    "Sou o seu bezerro gritando mamãe\n",
    "Esse papo meu tá qualquer coisa\n",
    "E você tá pra lá de Teerã!\n",
    "\"\"\""
   ]
  },
  {
   "cell_type": "code",
   "execution_count": 76,
   "metadata": {},
   "outputs": [],
   "source": [
    "# Contamos todas as letras do texto\n",
    "contador = {}\n",
    "nao_letras = \"\\n ,'\\\"!.:\"\n",
    "para cada letra em texto.lower():\n",
    "    se letra em nao_letras:\n",
    "        ...\n",
    "    ou então se letra em contador:\n",
    "        n = contador[letra] \n",
    "        contador[letra] = n + 1\n",
    "    senão:\n",
    "        contador[letra] = 1\n",
    "        \n",
    "# Consertamos os acentos\n",
    "contador[\"a\"] = contador[\"a\"] + contador.pop(\"á\")\n",
    "contador[\"a\"] = contador[\"a\"] + contador.pop(\"ã\")\n",
    "contador[\"e\"] = contador[\"e\"] + contador.pop(\"ê\")\n",
    "contador[\"c\"] = contador[\"c\"] + contador.pop(\"ç\")"
   ]
  },
  {
   "cell_type": "code",
   "execution_count": 77,
   "metadata": {},
   "outputs": [
    {
     "data": {
      "text/plain": [
       "[('a', 222),\n",
       " ('b', 11),\n",
       " ('c', 29),\n",
       " ('d', 45),\n",
       " ('e', 176),\n",
       " ('g', 4),\n",
       " ('h', 43),\n",
       " ('i', 31),\n",
       " ('j', 10),\n",
       " ('k', 3),\n",
       " ('l', 22),\n",
       " ('m', 53),\n",
       " ('n', 60),\n",
       " ('o', 95),\n",
       " ('p', 33),\n",
       " ('q', 28),\n",
       " ('r', 97),\n",
       " ('s', 84),\n",
       " ('t', 31),\n",
       " ('u', 41),\n",
       " ('v', 12),\n",
       " ('x', 15),\n",
       " ('z', 2)]"
      ]
     },
     "execution_count": 77,
     "metadata": {},
     "output_type": "execute_result"
    }
   ],
   "source": [
    "# Organizamos o contador por ordem alfabética\n",
    "\n",
    "# Criamos uma lista com os pares (letra, frequecia)\n",
    "items = list(contador.items())\n",
    "items.sort()\n",
    "items"
   ]
  },
  {
   "cell_type": "code",
   "execution_count": 74,
   "metadata": {},
   "outputs": [
    {
     "data": {
      "text/plain": [
       "[('a', 237),\n",
       " ('e', 209),\n",
       " ('r', 117),\n",
       " ('o', 115),\n",
       " ('s', 92),\n",
       " ('n', 63),\n",
       " ('m', 57),\n",
       " ('u', 51),\n",
       " ('d', 48),\n",
       " ('h', 45),\n",
       " ('p', 41),\n",
       " ('t', 37),\n",
       " ('q', 33),\n",
       " ('i', 33),\n",
       " ('c', 33),\n",
       " ('l', 27),\n",
       " ('x', 15),\n",
       " ('v', 15),\n",
       " ('b', 15),\n",
       " ('j', 10),\n",
       " ('g', 6),\n",
       " ('z', 3),\n",
       " ('k', 3)]"
      ]
     },
     "execution_count": 74,
     "metadata": {},
     "output_type": "execute_result"
    }
   ],
   "source": [
    "# Organizamos a contagem por frequência\n",
    "\n",
    "# Criamos uma lista com os pares (letra, frequecia)\n",
    "items = list(contador.items())\n",
    "\n",
    "# Trocamos a ordem dos elementos na dupla (letra, n)\n",
    "items = [(n, letra) para (letra, n) em items]\n",
    "items.sort()\n",
    "items.reverse()\n",
    "\n",
    "# Destrocamos a ordem dos elementos\n",
    "items = [(letra, n) para (n, letra) em items]\n",
    "items"
   ]
  },
  {
   "cell_type": "code",
   "execution_count": 78,
   "metadata": {},
   "outputs": [
    {
     "name": "stdout",
     "output_type": "stream",
     "text": [
      "e 176\n",
      "s 84\n",
      "p 33\n",
      "a 222\n",
      "o 95\n",
      "j 10\n",
      "t 31\n",
      "q 28\n",
      "u 41\n",
      "l 22\n",
      "r 97\n",
      "c 29\n",
      "i 31\n",
      "v 12\n",
      "d 45\n",
      "m 53\n",
      "k 3\n",
      "h 43\n",
      "x 15\n",
      "n 60\n",
      "b 11\n",
      "g 4\n",
      "z 2\n"
     ]
    }
   ],
   "source": [
    "# Exercício: Conte quantas vogais aparecem no contador\n",
    "# vs o número de consoantes e o número de letras no total\n",
    "vogais = \"aeiou\"\n",
    "\n",
    "para cada letra, n em contador.items():\n",
    "    print(letra, n)"
   ]
  },
  {
   "cell_type": "code",
   "execution_count": null,
   "metadata": {},
   "outputs": [],
   "source": []
  }
 ],
 "metadata": {
  "kernelspec": {
   "display_name": "Pytuguês",
   "language": "pytuga",
   "name": "pytuga"
  },
  "language_info": {
   "codemirror_mode": {
    "name": "ipython",
    "version": 3
   },
   "file_extension": "py",
   "mimetype": "text/x-pytuga",
   "name": "Pytuguês",
   "pygments_lexer": "python"
  }
 },
 "nbformat": 4,
 "nbformat_minor": 2
}
