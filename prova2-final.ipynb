{
 "cells": [
  {
   "cell_type": "markdown",
   "metadata": {},
   "source": [
    "# Prova 2\n",
    "\n",
    "### Instruções\n",
    "\n",
    "* Leia atentamente cada questão\n",
    "* Preecha o nome e matrícula na célula abaixo\n",
    "* Você deve escolher 4 questões para resolver (cada uma vale 2.5 pts)\n",
    "* A prova é individual\n",
    "* Você pode consultar a documentação do Python em Python.org"
   ]
  },
  {
   "cell_type": "markdown",
   "metadata": {},
   "source": [
    "### Informações\n",
    "\n",
    "* Nome: (seu nome aqui)\n",
    "* Matrícula: (sua matrícula)"
   ]
  },
  {
   "cell_type": "markdown",
   "metadata": {},
   "source": [
    "## Questão 1 - Intervalos\n",
    "\n",
    "Você deve criar uma função que recebe um conjunto de inteiros e retorne uma lista ordenada de intervalos representados como tuplas. Por exemplo: `{1, 2, 3}` viraria uma lista com um único elemento `(1, 3)`. Caso\n",
    "o conjunto de números não seja sequêncial, utilizamos várias tuplas: `{1, 2, 3, 6, 7, 8} => [(1, 3), (6, 8)]`.\n",
    "Por fim, números isolados ganham sua tupla com valores identicos: `{42} => [(42, 42)]`."
   ]
  },
  {
   "cell_type": "code",
   "execution_count": null,
   "metadata": {},
   "outputs": [],
   "source": [
    "# id: q1\n",
    "def intervalos(data):\n",
    "    return []"
   ]
  },
  {
   "cell_type": "code",
   "execution_count": null,
   "metadata": {},
   "outputs": [],
   "source": [
    "# Exemplo para você experimentar sua implementação :)\n",
    "intervalos({1, 2, 3, 4, 5, 7, 8, 12})"
   ]
  },
  {
   "cell_type": "code",
   "execution_count": null,
   "metadata": {},
   "outputs": [],
   "source": [
    "# testes\n",
    "assert intervalos({1, 2, 3, 4, 5, 7, 8, 12}) == [(1, 5), (7, 8), (12, 12)]\n",
    "assert intervalos({1, 2, 3, 6, 7, 8, 4, 5}) == [(1, 8)]\n",
    "print('Parabéns!')"
   ]
  },
  {
   "cell_type": "markdown",
   "metadata": {},
   "source": [
    "## Questão 2 - Número da besta\n",
    "\n",
    "A Gematria é método de análise de textos Bíblicos baseado na associação de números a cada palavra do texto. Ainda que a Gematria original aceite apenas textos em Hebraico, vamos implementar nossa versão adaptada com o alfabeto latino.\n",
    "\n",
    "Crie uma função chamada gematria que associa cada string de texto de entrada com um valor numérico segundo a seguinte tablela de valores:\n",
    "\n",
    "```python\n",
    "valores = {\n",
    "    'a': 1, 'b': 2, 'c': 3, 'd': 4, 'e': 5, \n",
    "    'f': 6, 'g': 7, 'h': 8, 'i': 9, 'j': 10, \n",
    "    'k': 10, 'l': 20, 'm': 30, 'n': 40, 'o': 50, \n",
    "    'p': 60, 'q': 70, 'r': 80, 's': 90, 't': 100, \n",
    "    'u': 200, 'v': 300, 'w': 400, 'x': 500, \n",
    "    'y': 600, 'z': 700,\n",
    "}\n",
    "```"
   ]
  },
  {
   "cell_type": "code",
   "execution_count": null,
   "metadata": {},
   "outputs": [],
   "source": [
    "# id: q2\n",
    "def gematria(data: str) -> int:\n",
    "    return 0"
   ]
  },
  {
   "cell_type": "code",
   "execution_count": null,
   "metadata": {},
   "outputs": [],
   "source": [
    "# Exemplo para você experimentar sua implementação :)\n",
    "gematria('paracatu')"
   ]
  },
  {
   "cell_type": "code",
   "execution_count": null,
   "metadata": {},
   "outputs": [],
   "source": [
    "# testes\n",
    "assert gematria('paracatu') == 666\n",
    "assert gematria('PARACATU') == 666\n",
    "assert gematria('hello world!') == 817\n",
    "assert gematria('abcdefghijklmnopqrstuvwxyz') == 4095\n",
    "print('Parabéns!')"
   ]
  },
  {
   "cell_type": "markdown",
   "metadata": {},
   "source": [
    "## Questão 3 - Todos iguais\n",
    "\n",
    "Crie uma função que verifique se todos os elementos de uma lista são iguais. \n",
    "\n",
    "Uma lista vazia deve retornar `True`."
   ]
  },
  {
   "cell_type": "code",
   "execution_count": null,
   "metadata": {},
   "outputs": [],
   "source": [
    "# id: q3\n",
    "def todos_iguais(lst: list) -> bool:\n",
    "    return True or False"
   ]
  },
  {
   "cell_type": "code",
   "execution_count": null,
   "metadata": {},
   "outputs": [],
   "source": [
    "# Exemplo para você experimentar sua implementação :)\n",
    "todos_iguais([1, 1, 1])"
   ]
  },
  {
   "cell_type": "code",
   "execution_count": null,
   "metadata": {},
   "outputs": [],
   "source": [
    "# testes\n",
    "assert todos_iguais([1, 1, 1]) == True\n",
    "assert todos_iguais([1, 2, 1]) == False\n",
    "assert todos_iguais(['a', 'a', 'a']) == True\n",
    "assert todos_iguais([]) == True\n",
    "assert todos_iguais([1]) == True\n",
    "print('Parabéns!')"
   ]
  },
  {
   "cell_type": "markdown",
   "metadata": {},
   "source": [
    "## Questão 4 - Primos\n",
    "\n",
    "Um número é primo se for divisível apenas por 1 e por ele mesmo (obs, zero e um **não** são primos!). Crie uma\n",
    "função que recebe um número e retorne uma lista com todos números menores ou iguais ao número dado.\n",
    "\n",
    "Lembre-se que para verificar se um número `n` é primo, basta analisar se o mesmo é divisível por algum número na lista dos primos menores que `n`."
   ]
  },
  {
   "cell_type": "code",
   "execution_count": null,
   "metadata": {},
   "outputs": [],
   "source": [
    "# id: q4\n",
    "def primos(n: int):\n",
    "    return [2, 3, ...]"
   ]
  },
  {
   "cell_type": "code",
   "execution_count": null,
   "metadata": {},
   "outputs": [],
   "source": [
    "# Exemplo para você experimentar sua implementação :)\n",
    "primos(13)"
   ]
  },
  {
   "cell_type": "code",
   "execution_count": null,
   "metadata": {},
   "outputs": [],
   "source": [
    "# testes\n",
    "assert primos(13) == [2, 3, 5, 7, 11, 13]\n",
    "assert primos(10) == [2, 3, 5, 7]\n",
    "print('Parabéns!')"
   ]
  },
  {
   "cell_type": "markdown",
   "metadata": {},
   "source": [
    "## Questão 5 - Uma questão de classe\n",
    "\n",
    "A classe `Pessoa` mostrada abaixo possui os campos de nome e sobrenome. \n",
    "\n",
    "Implemente a função `criar_filho(p1, p2, nome)` que produz uma nova pessoa com o sobrenome calculado a partir dos sobrenomes dos pais. No caso, devemos juntar o último sobrenome do genitor2 com o último sobrenome do genitor1."
   ]
  },
  {
   "cell_type": "code",
   "execution_count": null,
   "metadata": {},
   "outputs": [],
   "source": [
    "# id: q5\n",
    "class Pessoa:\n",
    "    def __init__(self, nome, sobrenome):\n",
    "        self.nome = nome\n",
    "        self.sobrenome = sobrenome\n",
    "        \n",
    "    def __repr__(self):\n",
    "        return \"Pessoa(%r, %r)\" % (self.nome, self.sobrenome)\n",
    "    \n",
    "    def __eq__(self, other):\n",
    "        return self.nome == other.nome and self.sobrenome == other.sobrenome\n",
    "    \n",
    "    def ultimo_sobrenome(self):\n",
    "        \"\"\"\n",
    "        Retorna a última palavra do sobrenome da pessoa.\n",
    "        \n",
    "        Útil para analizar sobrenomes compostos.\n",
    "        \"\"\"\n",
    "        return self.sobrenome\n",
    "\n",
    "    \n",
    "def criar_filho(p1: Pessoa, p2: Pessoa, nome: str) -> Pessoa:\n",
    "    return Pessoa(\"Sasha\", \"Meneghel Szafir\")"
   ]
  },
  {
   "cell_type": "code",
   "execution_count": null,
   "metadata": {},
   "outputs": [],
   "source": [
    "# Exemplo para você experimentar sua implementação :)\n",
    "xuxa = Pessoa(\"Xuxa\", \"Meneghel\")\n",
    "pai = Pessoa(\"Luciano\", \"Szafir\")\n",
    "criar_filho(pai, xuxa, \"Sasha\")"
   ]
  },
  {
   "cell_type": "code",
   "execution_count": null,
   "metadata": {},
   "outputs": [],
   "source": [
    "# testes\n",
    "xuxa = Pessoa(\"Xuxa\", \"Meneghel\")\n",
    "pai = Pessoa(\"Luciano\", \"Szafir\")\n",
    "pele = Pessoa(\"Edson\", \"Arantes do Nascimento\")\n",
    "\n",
    "assert criar_filho(pai, xuxa, \"Sasha\") == Pessoa('Sasha', 'Meneghel Szafir')\n",
    "assert criar_filho(xuxa, pai, \"Sasha\") == Pessoa('Sasha', 'Szafir Meneghel')\n",
    "assert criar_filho(pele, xuxa, \"Fulano\") == Pessoa('Fulano', 'Meneghel Nascimento')\n",
    "print('Parabens')"
   ]
  }
 ],
 "metadata": {
  "kernelspec": {
   "display_name": "Python 3",
   "language": "python",
   "name": "python3"
  },
  "language_info": {
   "codemirror_mode": {
    "name": "ipython",
    "version": 3
   },
   "file_extension": ".py",
   "mimetype": "text/x-python",
   "name": "python",
   "nbconvert_exporter": "python",
   "pygments_lexer": "ipython3",
   "version": "3.7.0"
  }
 },
 "nbformat": 4,
 "nbformat_minor": 2
}
