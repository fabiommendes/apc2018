{
 "cells": [
  {
   "cell_type": "code",
   "execution_count": 5,
   "metadata": {},
   "outputs": [
    {
     "name": "stdout",
     "output_type": "stream",
     "text": [
      "n: 6\n",
      "fat de 6 = 720\n"
     ]
    }
   ],
   "source": [
    "# REFATORAÇÃO DE CÓDIGO\n",
    "n = leia_número('n: ') \n",
    "\n",
    "fat = 1\n",
    "m = 1\n",
    "\n",
    "enquanto m <= n:\n",
    "    fat = fat * m\n",
    "    m = m + 1\n",
    "    \n",
    "print('fat de %s = %s' % (n, fat))"
   ]
  },
  {
   "cell_type": "code",
   "execution_count": 8,
   "metadata": {},
   "outputs": [
    {
     "name": "stdout",
     "output_type": "stream",
     "text": [
      "n: 5\n",
      "fatorial = 120\n"
     ]
    }
   ],
   "source": [
    "# 1o desafio: eliminar a variável desnecessária m.\n",
    "#   Um código que utiliza menos variáveis normalmente\n",
    "#   é mais fácil de entender\n",
    "n = leia_número('n: ') \n",
    "\n",
    "fat = 1\n",
    "\n",
    "enquanto n > 1:\n",
    "    fat = fat * n\n",
    "    n = n - 1\n",
    "    \n",
    "print('fatorial = %s' % (fat))"
   ]
  },
  {
   "cell_type": "code",
   "execution_count": 9,
   "metadata": {},
   "outputs": [
    {
     "name": "stdout",
     "output_type": "stream",
     "text": [
      "n: 5\n",
      "fatorial = 120\n"
     ]
    }
   ],
   "source": [
    "# 2o desafio: trocar o \"enquanto\" por repetir ou \"para cada\".\n",
    "#   O laço enquanto é mais vunerável a bugs e a entrar em\n",
    "#   loops infinitos. Sempre dê preferência a \"repetir\" ou \n",
    "#   \"para cada\" (\"for\", em Python).\n",
    "n = leia_número('n: ') \n",
    "\n",
    "fat = 1\n",
    "para cada x de 1 até n:\n",
    "    fat = fat * x\n",
    "    \n",
    "print('fatorial = %s' % (fat))"
   ]
  },
  {
   "cell_type": "code",
   "execution_count": 10,
   "metadata": {},
   "outputs": [
    {
     "name": "stdout",
     "output_type": "stream",
     "text": [
      "n: 5\n",
      "fatorial = 120\n"
     ]
    }
   ],
   "source": [
    "# 3o desafio: Usamos funções para reaproveitar código.\n",
    "# Coloque este código dentro de uma função fatorial(n) que\n",
    "# quando o usuário chama a função com um valor numérico,\n",
    "# ela retorne o resultado do fatorial\n",
    "função fatorial(n):\n",
    "    fat = 1\n",
    "    para cada x de 1 até n:\n",
    "        fat = fat * x\n",
    "    retornar fat\n",
    "\n",
    "n = leia_número('n: ')\n",
    "print('fatorial = %s' % (fatorial(n)))"
   ]
  },
  {
   "cell_type": "code",
   "execution_count": 20,
   "metadata": {},
   "outputs": [
    {
     "name": "stdout",
     "output_type": "stream",
     "text": [
      "43\n"
     ]
    }
   ],
   "source": [
    "# Exemplo da diferença entre \"retornar\" e \"print\"\n",
    "função resposta():\n",
    "    retornar 42\n",
    "    \n",
    "x = resposta()\n",
    "print(x + 1)"
   ]
  },
  {
   "cell_type": "code",
   "execution_count": 19,
   "metadata": {},
   "outputs": [
    {
     "name": "stdout",
     "output_type": "stream",
     "text": [
      "42\n"
     ]
    },
    {
     "ename": "TypeError",
     "evalue": "unsupported operand type(s) for +: 'NoneType' and 'int'",
     "output_type": "error",
     "traceback": [
      "\u001b[0;31m---------------------------------------------------------------------------\u001b[0m",
      "\u001b[0;31mTypeError\u001b[0m                                 Traceback (most recent call last)",
      "\u001b[0;32m<ipython-input-19-1ef9bc817f9b>\u001b[0m in \u001b[0;36m<module>\u001b[0;34m()\u001b[0m\n\u001b[1;32m      3\u001b[0m \u001b[0;34m\u001b[0m\u001b[0m\n\u001b[1;32m      4\u001b[0m \u001b[0mx\u001b[0m \u001b[0;34m=\u001b[0m \u001b[0mresposta\u001b[0m\u001b[0;34m(\u001b[0m\u001b[0;34m)\u001b[0m\u001b[0;34m\u001b[0m\u001b[0m\n\u001b[0;32m----> 5\u001b[0;31m \u001b[0mprint\u001b[0m\u001b[0;34m(\u001b[0m\u001b[0mx\u001b[0m \u001b[0;34m+\u001b[0m \u001b[0;36m1\u001b[0m\u001b[0;34m)\u001b[0m\u001b[0;34m\u001b[0m\u001b[0m\n\u001b[0m",
      "\u001b[0;31mTypeError\u001b[0m: unsupported operand type(s) for +: 'NoneType' and 'int'"
     ]
    }
   ],
   "source": [
    "função resposta():\n",
    "    print(42)\n",
    "    \n",
    "x = resposta()\n",
    "print(x + 1)"
   ]
  },
  {
   "cell_type": "code",
   "execution_count": 67,
   "metadata": {},
   "outputs": [
    {
     "name": "stdout",
     "output_type": "stream",
     "text": [
      "a: 32\n",
      "b: 34\n",
      "A média é: 33.0\n"
     ]
    }
   ],
   "source": [
    "# Função main: exemplo: pegunta dois números e imprime a média\n",
    "função main():\n",
    "    a = leia_número('a:')\n",
    "    b = leia_número('b:')\n",
    "    print('A média é:', (a + b) / 2)\n",
    "    \n",
    "# Em C, essa linha é criada automaticamente quando compilamos\n",
    "# o código como um programa.\n",
    "exit(main())"
   ]
  },
  {
   "cell_type": "code",
   "execution_count": 1,
   "metadata": {
    "scrolled": true
   },
   "outputs": [
    {
     "name": "stdout",
     "output_type": "stream",
     "text": [
      "A resposta para tudo\n",
      "???\n"
     ]
    }
   ],
   "source": [
    "# Condicionais\n",
    "x = 42\n",
    "\n",
    "se x < 18:\n",
    "    print('Proibida a entrada')\n",
    "ou então se x == 42:\n",
    "    print('A resposta para tudo')\n",
    "ou então se x > 60:\n",
    "    print('Proibida a entrada')\n",
    "ou então se x % 2 == 0:\n",
    "    print('Idades pares são boas')\n",
    "ou então se x % 2 == 1:\n",
    "    print('Anos ímpares dão azar')\n",
    "ou então se x == 30:\n",
    "    print('Volta de saturno')\n",
    "se x == 100:\n",
    "    print('Parabéns!')\n",
    "ou então se x > 120:\n",
    "    print('Duvido!')\n",
    "se x == 0:\n",
    "    print('Feliz nascimento')\n",
    "se x < 0:\n",
    "    print('Sei, sei...')\n",
    "senão:\n",
    "    print('???')"
   ]
  },
  {
   "cell_type": "code",
   "execution_count": 10,
   "metadata": {},
   "outputs": [
    {
     "name": "stdout",
     "output_type": "stream",
     "text": [
      "Idades pares são boas\n"
     ]
    }
   ],
   "source": [
    "# Condicionais\n",
    "x = 32\n",
    "\n",
    "se x == 0:\n",
    "    print('Feliz nascimento')\n",
    "ou então se x < 0:\n",
    "    print('Sei, sei...')\n",
    "ou então se x < 18:\n",
    "    print('Proibida a entrada')\n",
    "ou então se x == 100:\n",
    "    print('Parabéns!')\n",
    "ou então se x > 120:\n",
    "    print('Duvido!')\n",
    "ou então se x == 42:\n",
    "    print('A resposta para tudo')\n",
    "ou então se x > 60:\n",
    "    print('Proibida a entrada')\n",
    "ou então se x == 30:\n",
    "    print('Volta de saturno')\n",
    "ou então se x % 2 == 0:\n",
    "    print('Idades pares são boas')\n",
    "ou então se x % 2 == 1:\n",
    "    print('Anos ímpares dão azar')\n",
    "senão:\n",
    "    print('???')"
   ]
  },
  {
   "cell_type": "code",
   "execution_count": null,
   "metadata": {},
   "outputs": [],
   "source": []
  }
 ],
 "metadata": {
  "kernelspec": {
   "display_name": "Pytuguês",
   "language": "pytuga",
   "name": "pytuga"
  },
  "language_info": {
   "codemirror_mode": {
    "name": "ipython",
    "version": 3
   },
   "file_extension": "py",
   "mimetype": "text/x-pytuga",
   "name": "Pytuguês",
   "pygments_lexer": "python"
  }
 },
 "nbformat": 4,
 "nbformat_minor": 2
}
