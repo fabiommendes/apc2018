{
 "cells": [
  {
   "cell_type": "code",
   "execution_count": 5,
   "metadata": {},
   "outputs": [
    {
     "name": "stdout",
     "output_type": "stream",
     "text": [
      "n: 6\n",
      "fat de 6 = 720\n"
     ]
    }
   ],
   "source": [
    "n = leia_número('n: ') \n",
    "\n",
    "fat = 1\n",
    "m = 1\n",
    "\n",
    "enquanto m <= n:\n",
    "    fat = fat * m\n",
    "    m = m + 1\n",
    "    \n",
    "print('fat de %s = %s' % (n, fat))"
   ]
  },
  {
   "cell_type": "code",
   "execution_count": null,
   "metadata": {},
   "outputs": [],
   "source": []
  }
 ],
 "metadata": {
  "kernelspec": {
   "display_name": "Pytuguês",
   "language": "pytuga",
   "name": "pytuga"
  },
  "language_info": {
   "codemirror_mode": {
    "name": "ipython",
    "version": 3
   },
   "file_extension": "py",
   "mimetype": "text/x-pytuga",
   "name": "Pytuguês",
   "pygments_lexer": "python"
  }
 },
 "nbformat": 4,
 "nbformat_minor": 2
}
