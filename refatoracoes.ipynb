{
 "cells": [
  {
   "cell_type": "code",
   "execution_count": 5,
   "metadata": {},
   "outputs": [
    {
     "name": "stdout",
     "output_type": "stream",
     "text": [
      "n: 6\n",
      "fat de 6 = 720\n"
     ]
    }
   ],
   "source": [
    "# REFATORAÇÃO DE CÓDIGO\n",
    "n = leia_número('n: ') \n",
    "\n",
    "fat = 1\n",
    "m = 1\n",
    "\n",
    "enquanto m <= n:\n",
    "    fat = fat * m\n",
    "    m = m + 1\n",
    "    \n",
    "print('fat de %s = %s' % (n, fat))"
   ]
  },
  {
   "cell_type": "code",
   "execution_count": 6,
   "metadata": {},
   "outputs": [
    {
     "data": {
      "text/plain": [
       "Ellipsis"
      ]
     },
     "execution_count": 6,
     "metadata": {},
     "output_type": "execute_result"
    }
   ],
   "source": [
    "# 1o desafio: eliminar a variável desnecessária m.\n",
    "#   Um código que utiliza menos variáveis normalmente\n",
    "#   é mais fácil de entender\n",
    "..."
   ]
  },
  {
   "cell_type": "code",
   "execution_count": 7,
   "metadata": {},
   "outputs": [
    {
     "data": {
      "text/plain": [
       "Ellipsis"
      ]
     },
     "execution_count": 7,
     "metadata": {},
     "output_type": "execute_result"
    }
   ],
   "source": [
    "# 2o desafio: trocar o \"enquanto\" por repetir ou \"para cada\".\n",
    "#   O laço enquanto é mais vunerável a bugs e a entrar em\n",
    "#   loops infinitos. Sempre dê preferência a \"repetir\" ou \n",
    "#   \"para cada\" (\"for\", em Python).\n",
    "..."
   ]
  },
  {
   "cell_type": "code",
   "execution_count": null,
   "metadata": {},
   "outputs": [],
   "source": []
  }
 ],
 "metadata": {
  "kernelspec": {
   "display_name": "Pytuguês",
   "language": "pytuga",
   "name": "pytuga"
  },
  "language_info": {
   "codemirror_mode": {
    "name": "ipython",
    "version": 3
   },
   "file_extension": "py",
   "mimetype": "text/x-pytuga",
   "name": "Pytuguês",
   "pygments_lexer": "python"
  }
 },
 "nbformat": 4,
 "nbformat_minor": 2
}
