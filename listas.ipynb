{
 "cells": [
  {
   "cell_type": "code",
   "execution_count": 94,
   "metadata": {},
   "outputs": [],
   "source": [
    "# Criar lista: coloque os elementos entre colchetes \n",
    "# e separados por vírgulas\n",
    "lista_de_nomes = [\"guido\", \"linus\", \"grace hopper\", \"newton\"]"
   ]
  },
  {
   "cell_type": "code",
   "execution_count": 95,
   "metadata": {},
   "outputs": [],
   "source": [
    "# Acessamos os elementos por índices\n",
    "\n",
    "primeiro = lista_de_nomes[0] \n",
    "segundo = lista_de_nomes[1]\n",
    "...\n",
    "penúltimo = lista_de_nomes[-2]\n",
    "último = lista_de_nomes[-1]"
   ]
  },
  {
   "cell_type": "code",
   "execution_count": 96,
   "metadata": {},
   "outputs": [
    {
     "data": {
      "text/plain": [
       "['linus', 'grace hopper', 'newton', 'ada lovelace']"
      ]
     },
     "execution_count": 96,
     "metadata": {},
     "output_type": "execute_result"
    }
   ],
   "source": [
    "# Acrescentando elementos no fim da lista\n",
    "lista_de_nomes.acrescente(\"ada lovelace\")\n",
    "\n",
    "# Remover item específico\n",
    "apagar lista_de_nomes[0]\n",
    "\n",
    "lista_de_nomes"
   ]
  },
  {
   "cell_type": "code",
   "execution_count": 97,
   "metadata": {},
   "outputs": [
    {
     "data": {
      "text/plain": [
       "['ada lovelace', 'newton', 'grace hopper', 'linus']"
      ]
     },
     "execution_count": 97,
     "metadata": {},
     "output_type": "execute_result"
    }
   ],
   "source": [
    "# Funções úteis\n",
    "tamanho_da_lista = len(lista_de_nomes)\n",
    "\n",
    "# Inverte a ordem da lista\n",
    "lista_de_nomes.reverse()\n",
    "lista_de_nomes"
   ]
  },
  {
   "cell_type": "code",
   "execution_count": 98,
   "metadata": {},
   "outputs": [
    {
     "data": {
      "text/plain": [
       "['ada lovelace', 'grace hopper', 'linus', 'newton']"
      ]
     },
     "execution_count": 98,
     "metadata": {},
     "output_type": "execute_result"
    }
   ],
   "source": [
    "# Ordena elementos da lista\n",
    "lista_de_nomes.sort()\n",
    "lista_de_nomes"
   ]
  },
  {
   "cell_type": "code",
   "execution_count": 93,
   "metadata": {},
   "outputs": [
    {
     "data": {
      "text/plain": [
       "['ada lovelace', 'grace hopper']"
      ]
     },
     "execution_count": 93,
     "metadata": {},
     "output_type": "execute_result"
    }
   ],
   "source": [
    "# Remove último elemento\n",
    "lista_de_nomes.retire_último()\n",
    "lista_de_nomes"
   ]
  },
  {
   "cell_type": "code",
   "execution_count": 102,
   "metadata": {},
   "outputs": [
    {
     "name": "stdout",
     "output_type": "stream",
     "text": [
      "1 ada lovelace\n",
      "2 grace hopper\n",
      "3 linus\n",
      "4 newton\n"
     ]
    }
   ],
   "source": [
    "# Iteração sobre listas\n",
    "n = 1\n",
    "para cada nome em lista_de_nomes:\n",
    "    print(n, nome)\n",
    "    n = n + 1"
   ]
  },
  {
   "cell_type": "code",
   "execution_count": 106,
   "metadata": {},
   "outputs": [],
   "source": [
    "# Desconstrução de listas\n",
    "pt = [0, 1, 4]\n",
    "\n",
    "# Chato :-(\n",
    "x = pt[0]\n",
    "y = pt[1]\n",
    "z = pt[2]\n",
    "\n",
    "# Legal :-)\n",
    "x, y, z = pt "
   ]
  },
  {
   "cell_type": "code",
   "execution_count": null,
   "metadata": {},
   "outputs": [],
   "source": [
    "# Criando listas dinâmicas"
   ]
  }
 ],
 "metadata": {
  "kernelspec": {
   "display_name": "Pytuguês",
   "language": "pytuga",
   "name": "pytuga"
  },
  "language_info": {
   "codemirror_mode": {
    "name": "ipython",
    "version": 3
   },
   "file_extension": "py",
   "mimetype": "text/x-pytuga",
   "name": "Pytuguês",
   "pygments_lexer": "python"
  }
 },
 "nbformat": 4,
 "nbformat_minor": 2
}
