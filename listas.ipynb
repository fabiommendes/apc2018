{
 "cells": [
  {
   "cell_type": "code",
   "execution_count": 1,
   "metadata": {},
   "outputs": [],
   "source": [
    "# Criar lista: coloque os elementos entre colchetes \n",
    "# e separados por vírgulas\n",
    "lista_de_nomes = [\"guido\", \"linus\", \"grace hopper\", \"newton\"]"
   ]
  },
  {
   "cell_type": "code",
   "execution_count": 2,
   "metadata": {},
   "outputs": [],
   "source": [
    "# Acessamos os elementos por índices\n",
    "\n",
    "primeiro = lista_de_nomes[0] \n",
    "segundo = lista_de_nomes[1]\n",
    "...\n",
    "penúltimo = lista_de_nomes[-2]\n",
    "último = lista_de_nomes[-1]"
   ]
  },
  {
   "cell_type": "code",
   "execution_count": 5,
   "metadata": {},
   "outputs": [
    {
     "data": {
      "text/plain": [
       "['newton', 'grace hopper', 'linus', 'ada lovelace']"
      ]
     },
     "execution_count": 5,
     "metadata": {},
     "output_type": "execute_result"
    }
   ],
   "source": [
    "# Acrescentando elementos no fim da lista\n",
    "lista_de_nomes.acrescente(\"ada lovelace\")\n",
    "\n",
    "# Remover item específico\n",
    "apagar lista_de_nomes[0]\n",
    "\n",
    "lista_de_nomes"
   ]
  },
  {
   "cell_type": "code",
   "execution_count": 6,
   "metadata": {},
   "outputs": [
    {
     "data": {
      "text/plain": [
       "['ada lovelace', 'linus', 'grace hopper', 'newton']"
      ]
     },
     "execution_count": 6,
     "metadata": {},
     "output_type": "execute_result"
    }
   ],
   "source": [
    "# Funções úteis\n",
    "tamanho_da_lista = len(lista_de_nomes)\n",
    "\n",
    "# Inverte a ordem da lista\n",
    "lista_de_nomes.reverse()\n",
    "lista_de_nomes"
   ]
  },
  {
   "cell_type": "code",
   "execution_count": 7,
   "metadata": {},
   "outputs": [
    {
     "data": {
      "text/plain": [
       "['ada lovelace', 'grace hopper', 'linus', 'newton']"
      ]
     },
     "execution_count": 7,
     "metadata": {},
     "output_type": "execute_result"
    }
   ],
   "source": [
    "# Ordena elementos da lista\n",
    "lista_de_nomes.sort()\n",
    "lista_de_nomes"
   ]
  },
  {
   "cell_type": "code",
   "execution_count": 8,
   "metadata": {},
   "outputs": [
    {
     "data": {
      "text/plain": [
       "['ada lovelace', 'grace hopper', 'linus']"
      ]
     },
     "execution_count": 8,
     "metadata": {},
     "output_type": "execute_result"
    }
   ],
   "source": [
    "# Remove último elemento\n",
    "lista_de_nomes.retire_último()\n",
    "lista_de_nomes"
   ]
  },
  {
   "cell_type": "code",
   "execution_count": 9,
   "metadata": {},
   "outputs": [
    {
     "name": "stdout",
     "output_type": "stream",
     "text": [
      "1 ada lovelace\n",
      "2 grace hopper\n",
      "3 linus\n"
     ]
    }
   ],
   "source": [
    "# Iteração sobre listas\n",
    "n = 1\n",
    "para cada nome em lista_de_nomes:\n",
    "    print(n, nome)\n",
    "    n = n + 1"
   ]
  },
  {
   "cell_type": "code",
   "execution_count": 10,
   "metadata": {},
   "outputs": [],
   "source": [
    "# Desconstrução de listas\n",
    "pt = [0, 1, 4]\n",
    "\n",
    "# Chato :-(\n",
    "x = pt[0]\n",
    "y = pt[1]\n",
    "z = pt[2]\n",
    "\n",
    "# Legal :-)\n",
    "x, y, z = pt "
   ]
  },
  {
   "cell_type": "code",
   "execution_count": 11,
   "metadata": {},
   "outputs": [
    {
     "data": {
      "text/plain": [
       "['Ada Lovelace', 'Grace Hopper', 'Linus']"
      ]
     },
     "execution_count": 11,
     "metadata": {},
     "output_type": "execute_result"
    }
   ],
   "source": [
    "# Criando listas dinâmicas\n",
    "lista_de_nomes_2 = [nome.title() para nome em lista_de_nomes]\n",
    "lista_de_nomes_2"
   ]
  },
  {
   "cell_type": "code",
   "execution_count": 12,
   "metadata": {},
   "outputs": [
    {
     "data": {
      "text/plain": [
       "[1, 4, 9, 16, 25, 36, 49, 64, 81, 100]"
      ]
     },
     "execution_count": 12,
     "metadata": {},
     "output_type": "execute_result"
    }
   ],
   "source": [
    "# Criando listas dinâmicas\n",
    "quadrados = [ (x + 1)**2 - 2*x - 1 for x in range(1, 11) ]\n",
    "quadrados"
   ]
  },
  {
   "cell_type": "code",
   "execution_count": 15,
   "metadata": {},
   "outputs": [
    {
     "data": {
      "text/plain": [
       "385.0"
      ]
     },
     "execution_count": 15,
     "metadata": {},
     "output_type": "execute_result"
    }
   ],
   "source": [
    "# Soma os elementos da lista\n",
    "sum(quadrados)"
   ]
  },
  {
   "cell_type": "code",
   "execution_count": 20,
   "metadata": {},
   "outputs": [
    {
     "data": {
      "text/plain": [
       "['a', 'b', 'c']"
      ]
     },
     "execution_count": 20,
     "metadata": {},
     "output_type": "execute_result"
    }
   ],
   "source": [
    "list(\"abc\")"
   ]
  },
  {
   "cell_type": "code",
   "execution_count": 23,
   "metadata": {},
   "outputs": [
    {
     "data": {
      "text/plain": [
       "[1, 2, 3, 4, 5, 6, 7, 7, 7, 7, 7]"
      ]
     },
     "execution_count": 23,
     "metadata": {},
     "output_type": "execute_result"
    }
   ],
   "source": [
    "[1, 2, 3] + [4, 5, 6] + ([7] * 5)"
   ]
  },
  {
   "cell_type": "code",
   "execution_count": null,
   "metadata": {},
   "outputs": [],
   "source": []
  }
 ],
 "metadata": {
  "kernelspec": {
   "display_name": "Pytuguês",
   "language": "pytuga",
   "name": "pytuga"
  },
  "language_info": {
   "codemirror_mode": {
    "name": "ipython",
    "version": 3
   },
   "file_extension": "py",
   "mimetype": "text/x-pytuga",
   "name": "Pytuguês",
   "pygments_lexer": "python"
  }
 },
 "nbformat": 4,
 "nbformat_minor": 2
}
