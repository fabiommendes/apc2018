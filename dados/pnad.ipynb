{
 "cells": [
  {
   "cell_type": "code",
   "execution_count": 3,
   "metadata": {},
   "outputs": [],
   "source": []
  },
  {
   "cell_type": "code",
   "execution_count": 75,
   "metadata": {},
   "outputs": [],
   "source": [
    "class Person:\n",
    "    def __init__(self, line):\n",
    "        gender, race, education, income = line.split(',')\n",
    "        self.gender = int(gender)\n",
    "        self.race = int(race)\n",
    "        self.education = int(education)\n",
    "        self.income = int(income)\n",
    "    \n",
    "    def __repr__(self):\n",
    "        return \"Person(%s, %s, %s, %s)\" % (self.gender, self.race,\n",
    "                                           self.education, self.income)\n",
    "    \n",
    "class Group:\n",
    "    def __init__(self):\n",
    "        self.people = []\n",
    "        \n",
    "    def add_person(self, p):\n",
    "        self.people.append(p)\n",
    "        \n",
    "    def mean_income(self):\n",
    "        total = sum(p.income for p in self.people)\n",
    "        return total / self.size()\n",
    "\n",
    "    def mean_education(self):\n",
    "        total = 0\n",
    "        for p in self.people:\n",
    "            total += p.education \n",
    "        return total / self.size()\n",
    "    \n",
    "    def size(self):\n",
    "        return len(self.people)\n",
    "\n",
    "    def count_gender(self):\n",
    "        \"\"\"\n",
    "        Retorna uma dupla (a, b) com o numero de pessoas\n",
    "        com o genero 1 vs genero 2.\n",
    "        \"\"\"\n",
    "        a, b = 0, 0\n",
    "        for p in self.people:\n",
    "            if p.gender == 1:\n",
    "                a += 1\n",
    "            elif p.gender == 2:\n",
    "                b += 1\n",
    "        return (a, b)\n",
    "\n",
    "    def count_race(self):\n",
    "        \"\"\"\n",
    "        Retorna uma dupla (a, b, c, d, e) com o numero de pessoas\n",
    "        com com as racas de 1 a 5.\n",
    "        \"\"\"\n",
    "        count = [0, 0, 0, 0, 0]\n",
    "        for p in self.people:\n",
    "            count[p.race - 1] += 1\n",
    "        return count\n",
    "\n",
    "    def filter_gender(self, gender):\n",
    "        \"\"\"\n",
    "        Retorna um novo grupo com todas pessoas do genero \"id\"\n",
    "        \"\"\"\n",
    "        g = Group()\n",
    "        for p in self.people:\n",
    "            if p.gender == gender:\n",
    "                g.add_person(p)\n",
    "        return g\n",
    "\n",
    "    def filter_race(self, race):\n",
    "        \"\"\"\n",
    "        Retorna um novo grupo com todas pessoas da raca \"id\"\n",
    "        \"\"\"\n",
    "        g = Group()\n",
    "        for p in self.people:\n",
    "            if p.race == race:\n",
    "                g.add_person(p)\n",
    "        return g\n",
    "\n",
    "    def filter_active(self):\n",
    "        \"\"\"\n",
    "        Retorna um novo grupo com todas pessoas com renda nao-nula\n",
    "        \"\"\"\n",
    "        g = Group()\n",
    "        for p in self.people:\n",
    "            if p.income != 0:\n",
    "                g.add_person(p)\n",
    "        return g\n",
    "        \n",
    "    def median_income(self):\n",
    "        \"\"\"\n",
    "        Retorna a mediana da distribuiçao de renda\n",
    "        \"\"\"\n",
    "        ...\n",
    "\n",
    "    # quem ganha mais?\n",
    "    # quem ganha mais (por categoria)\n",
    "    # renda total dos 10% mais ricos vs 90% \n",
    "    # descobrir o seu percentil"
   ]
  },
  {
   "cell_type": "code",
   "execution_count": 32,
   "metadata": {},
   "outputs": [],
   "source": [
    "arquivo = open('pnad.dat')\n",
    "lista_pessoas = arquivo.readlines()\n",
    "\n",
    "g = Group()\n",
    "for line in lista_pessoas:\n",
    "    p = Person(line)\n",
    "    g.add_person(p)"
   ]
  },
  {
   "cell_type": "code",
   "execution_count": 54,
   "metadata": {},
   "outputs": [
    {
     "name": "stdout",
     "output_type": "stream",
     "text": [
      "HOMENS\n",
      "3333.6025917926568\n",
      "1243.5945658479984\n",
      "1273.557589058275\n",
      "1260.5492227979275\n",
      "2199.7619487804363\n",
      "MULHERES\n",
      "1967.6754563894524\n",
      "852.6687953241693\n",
      "867.3131907993002\n",
      "905.8125\n",
      "1472.7037005310947\n"
     ]
    }
   ],
   "source": [
    "print('HOMENS')\n",
    "for i in range(1, 6):\n",
    "    print(g.filter_active()\n",
    "              .filter_race(i)\n",
    "              .filter_gender(1)\n",
    "              .mean_income())\n",
    "\n",
    "print('MULHERES')\n",
    "for i in range(1, 6):\n",
    "    print(g.filter_active()\n",
    "              .filter_race(i)\n",
    "              .filter_gender(2)\n",
    "              .mean_income())"
   ]
  },
  {
   "cell_type": "code",
   "execution_count": 57,
   "metadata": {},
   "outputs": [
    {
     "name": "stdout",
     "output_type": "stream",
     "text": [
      "MULHERES\n",
      "9.782961460446247\n",
      "7.248619980517372\n",
      "7.31899458029275\n",
      "6.707386363636363\n",
      "8.881360287819085\n",
      "HOMENS\n",
      "10.136069114470843\n",
      "7.014117192032489\n",
      "6.8995375631931655\n",
      "6.494818652849741\n",
      "8.556692367486711\n"
     ]
    }
   ],
   "source": [
    "print('MULHERES')\n",
    "for i in range(1, 6):\n",
    "    print(g.filter_active()\n",
    "              .filter_race(i)\n",
    "              .filter_gender(2)\n",
    "              .mean_education())\n",
    "    \n",
    "print('HOMENS')\n",
    "for i in range(1, 6):\n",
    "    print(g.filter_active()\n",
    "              .filter_race(i)\n",
    "              .filter_gender(1)\n",
    "              .mean_education())"
   ]
  },
  {
   "cell_type": "code",
   "execution_count": 50,
   "metadata": {},
   "outputs": [
    {
     "data": {
      "text/plain": [
       "[0.0042764401256997495,\n",
       " 0.08310088812004933,\n",
       " 0.4793282402310933,\n",
       " 0.003959155858309123,\n",
       " 0.42933527566484847]"
      ]
     },
     "execution_count": 50,
     "metadata": {},
     "output_type": "execute_result"
    }
   ],
   "source": [
    "[n / g.size() for n in g.count_race()]"
   ]
  },
  {
   "cell_type": "code",
   "execution_count": 72,
   "metadata": {},
   "outputs": [
    {
     "data": {
      "text/plain": [
       "347.4375"
      ]
     },
     "execution_count": 72,
     "metadata": {},
     "output_type": "execute_result"
    }
   ],
   "source": [
    "lst = [1,2,4,2,45,43,5,2,3434,5,346,534,534,563,5,34]\n",
    "sum(lst) / len(lst)"
   ]
  },
  {
   "cell_type": "code",
   "execution_count": 73,
   "metadata": {},
   "outputs": [
    {
     "data": {
      "text/plain": [
       "34"
      ]
     },
     "execution_count": 73,
     "metadata": {},
     "output_type": "execute_result"
    }
   ],
   "source": [
    "n = len(lst)\n",
    "ordenada = sorted(lst)\n",
    "ordenada[n // 2]"
   ]
  },
  {
   "cell_type": "code",
   "execution_count": 74,
   "metadata": {},
   "outputs": [
    {
     "data": {
      "text/plain": [
       "[1, 2, 2, 2, 4, 5, 5, 5, 34, 43, 45, 346, 534, 534, 563, 3434]"
      ]
     },
     "execution_count": 74,
     "metadata": {},
     "output_type": "execute_result"
    }
   ],
   "source": [
    "ordenada"
   ]
  },
  {
   "cell_type": "code",
   "execution_count": null,
   "metadata": {},
   "outputs": [],
   "source": []
  }
 ],
 "metadata": {
  "kernelspec": {
   "display_name": "Python 3",
   "language": "python",
   "name": "python3"
  },
  "language_info": {
   "codemirror_mode": {
    "name": "ipython",
    "version": 3
   },
   "file_extension": ".py",
   "mimetype": "text/x-python",
   "name": "python",
   "nbconvert_exporter": "python",
   "pygments_lexer": "ipython3",
   "version": "3.7.0"
  }
 },
 "nbformat": 4,
 "nbformat_minor": 2
}
