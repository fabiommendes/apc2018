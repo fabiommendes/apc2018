{
 "cells": [
  {
   "cell_type": "code",
   "execution_count": 3,
   "metadata": {},
   "outputs": [],
   "source": []
  },
  {
   "cell_type": "code",
   "execution_count": 30,
   "metadata": {},
   "outputs": [],
   "source": [
    "class Person:\n",
    "    def __init__(self, line):\n",
    "        gender, race, education, income = line.split(',')\n",
    "        self.gender = int(gender)\n",
    "        self.race = int(race)\n",
    "        self.education = int(education)\n",
    "        self.income = int(income)\n",
    "    \n",
    "    def __repr__(self):\n",
    "        return \"Person(%s, %s, %s, %s)\" % (self.gender, self.race,\n",
    "                                           self.education, self.income)\n",
    "    \n",
    "class Group:\n",
    "    def __init__(self):\n",
    "        self.people = []\n",
    "        \n",
    "    def add_person(self, p):\n",
    "        self.people.append(p)\n",
    "        \n",
    "    def mean_income(self):\n",
    "        total = sum(p.income for p in self.people)\n",
    "        return total / self.size()\n",
    "\n",
    "    def mean_education(self):\n",
    "        ...\n",
    "    \n",
    "    def size(self):\n",
    "        return len(self.people)\n",
    "\n",
    "    def count_gender(self):\n",
    "        \"\"\"\n",
    "        Retorna uma dupla (a, b) com o numero de pessoas\n",
    "        com o genero 1 vs genero 2.\n",
    "        \"\"\"\n",
    "\n",
    "    def count_race(self):\n",
    "        \"\"\"\n",
    "        Retorna uma dupla (a, b, c, d, e) com o numero de pessoas\n",
    "        com com as racas de 1 a 5.\n",
    "        \"\"\"\n",
    "\n",
    "    def filter_gender(self, id):\n",
    "        \"\"\"\n",
    "        Retorna um novo grupo com todas pessoas do genero \"id\"\n",
    "        \"\"\"\n",
    "\n",
    "    def filter_race(self):\n",
    "        \"\"\"\n",
    "        Retorna um novo grupo com todas pessoas da raca \"id\"\n",
    "        \"\"\"\n",
    "\n",
    "    def filter_active(self):\n",
    "        \"\"\"\n",
    "        Retorna um novo grupo com todas pessoas com renda nao-nula\n",
    "        \"\"\"\n"
   ]
  },
  {
   "cell_type": "code",
   "execution_count": 31,
   "metadata": {},
   "outputs": [
    {
     "data": {
      "text/plain": [
       "836.4625921848747"
      ]
     },
     "execution_count": 31,
     "metadata": {},
     "output_type": "execute_result"
    }
   ],
   "source": [
    "arquivo = open('pnad.dat')\n",
    "entradas = arquivo.readlines()\n",
    "\n",
    "g = Group()\n",
    "for line in entradas:\n",
    "    p = Person(line)\n",
    "    g.add_person(p)\n",
    "g.mean_income()"
   ]
  },
  {
   "cell_type": "code",
   "execution_count": 28,
   "metadata": {},
   "outputs": [
    {
     "data": {
      "text/plain": [
       "836.4625921848747"
      ]
     },
     "execution_count": 28,
     "metadata": {},
     "output_type": "execute_result"
    }
   ],
   "source": [
    "g.mean_income()"
   ]
  },
  {
   "cell_type": "code",
   "execution_count": 29,
   "metadata": {},
   "outputs": [
    {
     "data": {
      "text/plain": [
       "362451"
      ]
     },
     "execution_count": 29,
     "metadata": {},
     "output_type": "execute_result"
    }
   ],
   "source": [
    "len(g.people)"
   ]
  },
  {
   "cell_type": "code",
   "execution_count": null,
   "metadata": {},
   "outputs": [],
   "source": []
  }
 ],
 "metadata": {
  "kernelspec": {
   "display_name": "Python 3",
   "language": "python",
   "name": "python3"
  },
  "language_info": {
   "codemirror_mode": {
    "name": "ipython",
    "version": 3
   },
   "file_extension": ".py",
   "mimetype": "text/x-python",
   "name": "python",
   "nbconvert_exporter": "python",
   "pygments_lexer": "ipython3",
   "version": "3.7.0"
  }
 },
 "nbformat": 4,
 "nbformat_minor": 2
}
