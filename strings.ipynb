{
 "cells": [
  {
   "cell_type": "code",
   "execution_count": 23,
   "metadata": {},
   "outputs": [],
   "source": [
    "# Declaramos string simples\n",
    "st1 = \"hello\"\n",
    "st2 = \"world!\"\n",
    "\n",
    "# String com várias linhas\n",
    "mst = \"\"\"Linha 1\n",
    "Linha 2\n",
    "Linha 3\n",
    "...\n",
    "\"\"\""
   ]
  },
  {
   "cell_type": "code",
   "execution_count": 61,
   "metadata": {},
   "outputs": [
    {
     "name": "stdout",
     "output_type": "stream",
     "text": [
      "st1 + ' ' + st2 = hello world!\n",
      "st1[0] = h\n",
      "st1[0:2] = he\n",
      "st1[1:] = ello\n",
      "st1[1::2] = el\n",
      "st1[::-1] = olleh\n"
     ]
    }
   ],
   "source": [
    "# Operações de sequências\n",
    "\n",
    "# Concatenação\n",
    "print(\"st1 + ' ' + st2 =\", st1 + ' ' + st2)\n",
    "\n",
    "# Extrair elementos\n",
    "print(\"st1[0] =\", st1[0])\n",
    "\n",
    "# Extrair fatias\n",
    "print(\"st1[0:2] =\", st1[0:2])\n",
    "print(\"st1[1:] =\", st1[1:])\n",
    "print(\"st1[1::2] =\", st1[1::2])\n",
    "print(\"st1[::-1] =\", st1[::-1])"
   ]
  },
  {
   "cell_type": "code",
   "execution_count": 68,
   "metadata": {},
   "outputs": [
    {
     "data": {
      "text/plain": [
       "42"
      ]
     },
     "execution_count": 68,
     "metadata": {},
     "output_type": "execute_result"
    }
   ],
   "source": [
    "# Conversões\n",
    "str([\"hello\", \"world\"])  # converte qualquer coisa pra string\n",
    "list(\"hello\")  # converte para lista\n",
    "int(\"42\")  # converte para número"
   ]
  },
  {
   "cell_type": "code",
   "execution_count": 79,
   "metadata": {},
   "outputs": [
    {
     "name": "stdout",
     "output_type": "stream",
     "text": [
      "Hello 42.00,  42.00, 42!\n"
     ]
    }
   ],
   "source": [
    "# Sintaxe de formatação\n",
    "print(\"Hello %.2f, %6.2f, %d!\" % (42, 42, 42.5))"
   ]
  },
  {
   "cell_type": "code",
   "execution_count": 82,
   "metadata": {},
   "outputs": [
    {
     "name": "stdout",
     "output_type": "stream",
     "text": [
      "Hello Fábio!\n",
      "Hello Fábio!\n"
     ]
    }
   ],
   "source": [
    "# Formatação com mustaches (Python 3.1+)\n",
    "print(\"Hello {nome}!\".format(nome=\"Fábio\"))\n",
    "print(\"Hello %s!\" % \"Fábio\")"
   ]
  },
  {
   "cell_type": "code",
   "execution_count": 84,
   "metadata": {},
   "outputs": [
    {
     "name": "stdout",
     "output_type": "stream",
     "text": [
      "Hello Fábio!\n"
     ]
    }
   ],
   "source": [
    "# Formatação com strings de formatação (Python 3.6+)\n",
    "nome = \"Fábio\"\n",
    "print(f\"Hello {nome}!\")  # obs.: fiquem atentos ao f!"
   ]
  },
  {
   "cell_type": "code",
   "execution_count": 125,
   "metadata": {},
   "outputs": [
    {
     "data": {
      "text/plain": [
       "(97, 'a')"
      ]
     },
     "execution_count": 125,
     "metadata": {},
     "output_type": "execute_result"
    }
   ],
   "source": [
    "# Número associado ao caractere, vs caractere associado \n",
    "# ao numero \n",
    "ord('a'), chr(97)"
   ]
  },
  {
   "cell_type": "code",
   "execution_count": 140,
   "metadata": {
    "hideOutput": true
   },
   "outputs": [
    {
     "data": {
      "text/plain": [
       "'hello:world'"
      ]
     },
     "execution_count": 140,
     "metadata": {},
     "output_type": "execute_result"
    }
   ],
   "source": [
    "# Juntar lista de strings\n",
    "lst = [\"hello\", \"world\"]\n",
    "\":\".join(lst)"
   ]
  },
  {
   "cell_type": "code",
   "execution_count": 153,
   "metadata": {},
   "outputs": [
    {
     "data": {
      "text/plain": [
       "'haaallo! world'"
      ]
     },
     "execution_count": 153,
     "metadata": {},
     "output_type": "execute_result"
    }
   ],
   "source": [
    "# Substituir valores em uma string\n",
    "\"hello! world\".replace('e', 'aaa')"
   ]
  },
  {
   "cell_type": "code",
   "execution_count": 167,
   "metadata": {},
   "outputs": [
    {
     "data": {
      "text/plain": [
       "'khoor zruog'"
      ]
     },
     "execution_count": 167,
     "metadata": {},
     "output_type": "execute_result"
    }
   ],
   "source": [
    "# Desafio 1: Cifra de César\n",
    "# A -> D, B -> E, ...\n",
    "n = 3\n",
    "texto = \"hello world\"\n",
    "cifrado = \"\"\n",
    "para cada c em texto:\n",
    "    neword = ord(c) + n\n",
    "    cifrado = cifrado + chr(neword)\n",
    "\n",
    "cifrado.replace('#', ' ')"
   ]
  },
  {
   "cell_type": "code",
   "execution_count": 169,
   "metadata": {},
   "outputs": [],
   "source": [
    "# Desafio 2: Um número é palíndromo quando é escrito da mesma\n",
    "# forma de trás para frente (ex.: 121). Encontre a soma\n",
    "# de todos os números palíndromos de 3 dígitos.\n",
    "#\n",
    "# Gabarito: a soma é 450.000"
   ]
  },
  {
   "cell_type": "code",
   "execution_count": null,
   "metadata": {},
   "outputs": [],
   "source": []
  }
 ],
 "metadata": {
  "kernelspec": {
   "display_name": "Pytuguês",
   "language": "pytuga",
   "name": "pytuga"
  },
  "language_info": {
   "codemirror_mode": {
    "name": "ipython",
    "version": 3
   },
   "file_extension": "py",
   "mimetype": "text/x-pytuga",
   "name": "Pytuguês",
   "pygments_lexer": "python"
  }
 },
 "nbformat": 4,
 "nbformat_minor": 2
}
